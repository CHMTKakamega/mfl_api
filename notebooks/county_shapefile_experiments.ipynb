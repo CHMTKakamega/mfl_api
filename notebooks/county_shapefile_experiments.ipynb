{
 "cells": [
  {
   "cell_type": "markdown",
   "metadata": {},
   "source": [
    "First, set up Django"
   ]
  },
  {
   "cell_type": "code",
   "execution_count": 2,
   "metadata": {
    "collapsed": false
   },
   "outputs": [
    {
     "name": "stderr",
     "output_type": "stream",
     "text": [
      "/home/ngurenyaga/.virtualenvs/mfl/local/lib/python2.7/site-packages/reversion/admin.py:16: RemovedInDjango19Warning: django.contrib.contenttypes.generic is deprecated and will be removed in Django 1.9. Its contents have been moved to the fields, forms, and admin submodules of django.contrib.contenttypes.\n",
      "  from django.contrib.contenttypes.generic import GenericInlineModelAdmin, GenericRelation\n",
      "\n",
      "WARNING:py.warnings:/home/ngurenyaga/.virtualenvs/mfl/local/lib/python2.7/site-packages/reversion/admin.py:16: RemovedInDjango19Warning: django.contrib.contenttypes.generic is deprecated and will be removed in Django 1.9. Its contents have been moved to the fields, forms, and admin submodules of django.contrib.contenttypes.\n",
      "  from django.contrib.contenttypes.generic import GenericInlineModelAdmin, GenericRelation\n",
      "\n",
      "/home/ngurenyaga/.virtualenvs/mfl/local/lib/python2.7/site-packages/django/contrib/sites/models.py:78: RemovedInDjango19Warning: Model class django.contrib.sites.models.Site doesn't declare an explicit app_label and either isn't in an application in INSTALLED_APPS or else was imported before its application was loaded. This will no longer be supported in Django 1.9.\n",
      "  class Site(models.Model):\n",
      "\n",
      "WARNING:py.warnings:/home/ngurenyaga/.virtualenvs/mfl/local/lib/python2.7/site-packages/django/contrib/sites/models.py:78: RemovedInDjango19Warning: Model class django.contrib.sites.models.Site doesn't declare an explicit app_label and either isn't in an application in INSTALLED_APPS or else was imported before its application was loaded. This will no longer be supported in Django 1.9.\n",
      "  class Site(models.Model):\n",
      "\n"
     ]
    }
   ],
   "source": [
    "import os\n",
    "import sys\n",
    "\n",
    "if __name__ == \"__main__\":\n",
    "    os.environ.setdefault(\"DJANGO_SETTINGS_MODULE\", \"config.settings\")\n",
    "    \n",
    "import django\n",
    "django.setup()"
   ]
  },
  {
   "cell_type": "markdown",
   "metadata": {},
   "source": [
    "Next, get a reference to the counties shape file"
   ]
  },
  {
   "cell_type": "code",
   "execution_count": 3,
   "metadata": {
    "collapsed": false
   },
   "outputs": [],
   "source": [
    "from django.conf import settings\n",
    "counties_shp = os.path.abspath(os.path.join(settings.BASE_DIR, 'mfl_gis/data/counties/counties.shp'))"
   ]
  },
  {
   "cell_type": "markdown",
   "metadata": {},
   "source": [
    "Now, use the LayerMapping utility to read the file into the model"
   ]
  },
  {
   "cell_type": "code",
   "execution_count": 4,
   "metadata": {
    "collapsed": false
   },
   "outputs": [],
   "source": [
    "from django.contrib.gis.gdal import DataSource\n",
    "\n",
    "counties_datasource = DataSource(counties_shp)"
   ]
  },
  {
   "cell_type": "code",
   "execution_count": 5,
   "metadata": {
    "collapsed": false
   },
   "outputs": [
    {
     "data": {
      "text/plain": [
       "[u'OBJECTID',\n",
       " u'ID_',\n",
       " u'COUNTY_NAM',\n",
       " u'CONST_CODE',\n",
       " u'CONSTITUEN',\n",
       " u'COUNTY_COD',\n",
       " u'Shape_Leng',\n",
       " u'Shape_Area']"
      ]
     },
     "execution_count": 5,
     "metadata": {},
     "output_type": "execute_result"
    }
   ],
   "source": [
    "counties_layer = counties_datasource[0]\n",
    "counties_layer.fields"
   ]
  },
  {
   "cell_type": "code",
   "execution_count": 6,
   "metadata": {
    "collapsed": false
   },
   "outputs": [],
   "source": [
    "county_details = []\n",
    "for county in counties_layer:\n",
    "    county_details.append({\n",
    "        'object_id': county.get('OBJECTID'),\n",
    "        'id': county.get('ID_'),\n",
    "        'name': county.get('COUNTY_NAM'),\n",
    "        'constituency_code': county.get('CONST_CODE'),\n",
    "        'constituency': county.get('CONSTITUEN'),\n",
    "        'code': county.get('COUNTY_COD'),\n",
    "        'length': county.get('Shape_Leng'),\n",
    "        'area': county.get('Shape_Area')\n",
    "    })"
   ]
  },
  {
   "cell_type": "code",
   "execution_count": 9,
   "metadata": {
    "collapsed": false
   },
   "outputs": [
    {
     "data": {
      "text/plain": [
       "'[{\"code\": 47, \"length\": 1.55978672217, \"constituency_code\": 288, \"name\": \"NAIROBI\", \"area\": 0.057422949, \"constituency\": \"KAMUKUNJI\", \"id\": 5543, \"object_id\": 1}, {\"code\": 1, \"length\": 0.88558616055, \"constituency_code\": 3, \"name\": \"MOMBASA\", \"area\": 0.02332510618, \"constituency\": \"KISAUNI\", \"id\": 6634, \"object_id\": 2}, {\"code\": 2, \"length\": 4.28418177601, \"constituency_code\": 10, \"name\": \"KWALE\", \"area\": 0.75826601303, \"constituency\": \"KINANGO\", \"id\": 6600, \"object_id\": 3}, {\"code\": 3, \"length\": 5.33308007101, \"constituency_code\": 13, \"name\": \"KILIFI\", \"area\": 1.02533838151, \"constituency\": \"KALOLENI\", \"id\": 6731, \"object_id\": 4}, {\"code\": 4, \"length\": 10.2804493709, \"constituency_code\": 19, \"name\": \"TANA RIVER\", \"area\": 3.18421263617, \"constituency\": \"GALOLE\", \"id\": 5806, \"object_id\": 5}, {\"code\": 5, \"length\": 3.74468915941, \"constituency_code\": 22, \"name\": \"LAMU\", \"area\": 0.74374311266, \"constituency\": \"LAMU WEST\", \"id\": 6276, \"object_id\": 6}, {\"code\": 6, \"length\": 5.5844513245, \"constituency_code\": 24, \"name\": \"TAITA TAVETA\", \"area\": 1.39385877374, \"constituency\": \"WUNDANYI\", \"id\": 6467, \"object_id\": 7}, {\"code\": 7, \"length\": 10.4543262694, \"constituency_code\": 28, \"name\": \"GARISSA\", \"area\": 3.54169829321, \"constituency\": \"BALAMBALA\", \"id\": 2382, \"object_id\": 8}, {\"code\": 8, \"length\": 9.96942202517, \"constituency_code\": 36, \"name\": \"WAJIR\", \"area\": 4.60636555222, \"constituency\": \"WAJIR WEST\", \"id\": 663, \"object_id\": 9}, {\"code\": 9, \"length\": 7.19616328425, \"constituency_code\": 42, \"name\": \"MANDERA\", \"area\": 2.11434477576, \"constituency\": \"MANDERA SOUTH\", \"id\": 264, \"object_id\": 10}, {\"code\": 10, \"length\": 11.8969963206, \"constituency_code\": 46, \"name\": \"MARSABIT\", \"area\": 6.18501666925, \"constituency\": \"NORTH HORR\", \"id\": 133, \"object_id\": 11}, {\"code\": 11, \"length\": 10.0183616426, \"constituency_code\": 49, \"name\": \"ISIOLO\", \"area\": 2.06364774463, \"constituency\": \"ISIOLO NORTH\", \"id\": 812, \"object_id\": 12}, {\"code\": 12, \"length\": 4.20468088307, \"constituency_code\": 56, \"name\": \"MERU\", \"area\": 0.56801994331, \"constituency\": \"NORTH IMENTI\", \"id\": 2633, \"object_id\": 13}, {\"code\": 13, \"length\": 2.9883739317, \"constituency_code\": 60, \"name\": \"THARAKA - NITHI\", \"area\": 0.20962152815, \"constituency\": \"MAARA\", \"id\": 3303, \"object_id\": 14}, {\"code\": 14, \"length\": 3.20577801845, \"constituency_code\": 64, \"name\": \"EMBU\", \"area\": 0.22934267389, \"constituency\": \"RUNYENJES\", \"id\": 3567, \"object_id\": 15}, {\"code\": 15, \"length\": 8.74448750335, \"constituency_code\": 73, \"name\": \"KITUI\", \"area\": 2.47528086643, \"constituency\": \"KITUI EAST\", \"id\": 5251, \"object_id\": 16}, {\"code\": 16, \"length\": 5.69857534187, \"constituency_code\": 76, \"name\": \"MACHAKOS\", \"area\": 0.49098460969, \"constituency\": \"YATTA\", \"id\": 5438, \"object_id\": 17}, {\"code\": 18, \"length\": 3.48082504881, \"constituency_code\": 90, \"name\": \"NYANDARUA\", \"area\": 0.26542309571, \"constituency\": \"KIPIPIRI\", \"id\": 3699, \"object_id\": 18}, {\"code\": 19, \"length\": 2.98028956743, \"constituency_code\": 95, \"name\": \"NYERI\", \"area\": 0.27090667838, \"constituency\": \"KIENI\", \"id\": 3111, \"object_id\": 19}, {\"code\": 20, \"length\": 1.79453434734, \"constituency_code\": 101, \"name\": \"KIRINYAGA\", \"area\": 0.11984024832, \"constituency\": \"GICHUGU\", \"id\": 3965, \"object_id\": 20}, {\"code\": 21, \"length\": 2.43719771684, \"constituency_code\": 105, \"name\": \"MURANG\\'A\", \"area\": 0.20511432082, \"constituency\": \"MATHIOYA\", \"id\": 4145, \"object_id\": 21}, {\"code\": 22, \"length\": 3.00892182622, \"constituency_code\": 112, \"name\": \"KIAMBU\", \"area\": 0.20655368085, \"constituency\": \"GATUNDU NORTH\", \"id\": 4921, \"object_id\": 22}, {\"code\": 23, \"length\": 14.1898741549, \"constituency_code\": 123, \"name\": \"TURKANA\", \"area\": 5.70813539469, \"constituency\": \"TURKANA NORTH\", \"id\": 1, \"object_id\": 23}, {\"code\": 24, \"length\": 4.67142789986, \"constituency_code\": 129, \"name\": \"WEST POKOT\", \"area\": 0.7545900016, \"constituency\": \"KAPENGURIA\", \"id\": 519, \"object_id\": 24}, {\"code\": 25, \"length\": 7.83144153059, \"constituency_code\": 134, \"name\": \"SAMBURU\", \"area\": 1.70766586839, \"constituency\": \"SAMBURU NORTH\", \"id\": 401, \"object_id\": 25}, {\"code\": 27, \"length\": 3.79630380519, \"constituency_code\": 144, \"name\": \"UASIN GISHU\", \"area\": 0.27589006735, \"constituency\": \"AINABKOI\", \"id\": 1723, \"object_id\": 26}, {\"code\": 28, \"length\": 3.8541213715, \"constituency_code\": 147, \"name\": \"ELEGEYO-MARAKWET\", \"area\": 0.24576217495, \"constituency\": \"MARAKWET EAST\", \"id\": 778, \"object_id\": 27}, {\"code\": 29, \"length\": 3.05726592217, \"constituency_code\": 156, \"name\": \"NANDI\", \"area\": 0.23023133721, \"constituency\": \"MOSOP\", \"id\": 1582, \"object_id\": 28}, {\"code\": 30, \"length\": 5.81571392065, \"constituency_code\": 159, \"name\": \"BARINGO\", \"area\": 0.88451236882, \"constituency\": \"BARINGO CENTRAL\", \"id\": 1555, \"object_id\": 29}, {\"code\": 31, \"length\": 5.22280558966, \"constituency_code\": 165, \"name\": \"LAIKIPIA\", \"area\": 0.77470766941, \"constituency\": \"LAIKIPIA NORTH\", \"id\": 1416, \"object_id\": 30}, {\"code\": 32, \"length\": 6.33797592365, \"constituency_code\": 172, \"name\": \"NAKURU\", \"area\": 0.60725078911, \"constituency\": \"SUBUKIA\", \"id\": 2854, \"object_id\": 31}, {\"code\": 33, \"length\": 6.68597072631, \"constituency_code\": 181, \"name\": \"NAROK\", \"area\": 1.45350676401, \"constituency\": \"NAROK SOUTH\", \"id\": 5181, \"object_id\": 32}, {\"code\": 34, \"length\": 7.16441555269, \"constituency_code\": 184, \"name\": \"KAJIADO\", \"area\": 1.77912132642, \"constituency\": \"KAJIADO CENTRAL\", \"id\": 6202, \"object_id\": 33}, {\"code\": 17, \"length\": 5.74677892114, \"constituency_code\": 87, \"name\": \"MAKUENI\", \"area\": 0.66459009423, \"constituency\": \"KIBWEZI WEST\", \"id\": 6213, \"object_id\": 34}, {\"code\": 35, \"length\": 3.4293911554, \"constituency_code\": 192, \"name\": \"KERICHO\", \"area\": 0.20964797953, \"constituency\": \"BELGUT\", \"id\": 3434, \"object_id\": 35}, {\"code\": 37, \"length\": 3.81209259444, \"constituency_code\": 209, \"name\": \"KAKAMEGA\", \"area\": 0.24446094982, \"constituency\": \"SHINYALU\", \"id\": 1819, \"object_id\": 36}, {\"code\": 38, \"length\": 1.24925510587, \"constituency_code\": 213, \"name\": \"VIHIGA\", \"area\": 0.04549045865, \"constituency\": \"HAMISI\", \"id\": 2515, \"object_id\": 37}, {\"code\": 39, \"length\": 2.90276116927, \"constituency_code\": 220, \"name\": \"BUNGOMA\", \"area\": 0.24504475541, \"constituency\": \"KANDUYI\", \"id\": 1294, \"object_id\": 38}, {\"code\": 40, \"length\": 2.57838796438, \"constituency_code\": 225, \"name\": \"BUSIA\", \"area\": 0.14764386658, \"constituency\": \"TESO NORTH\", \"id\": 1295, \"object_id\": 39}, {\"code\": 41, \"length\": 2.80244601296, \"constituency_code\": 232, \"name\": \"SIAYA\", \"area\": 0.28583735592, \"constituency\": \"UGENYA\", \"id\": 2082, \"object_id\": 40}, {\"code\": 43, \"length\": 3.30089166438, \"constituency_code\": 248, \"name\": \"HOMA BAY\", \"area\": 0.38431715409, \"constituency\": \"RANGWE\", \"id\": 3888, \"object_id\": 41}, {\"code\": 44, \"length\": 2.9681189429, \"constituency_code\": 260, \"name\": \"MIGORI\", \"area\": 0.25500213176, \"constituency\": \"KURIA EAST\", \"id\": 5443, \"object_id\": 42}, {\"code\": 45, \"length\": 1.67945950816, \"constituency_code\": 267, \"name\": \"KISII\", \"area\": 0.10641196741, \"constituency\": \"NYARIBARI CHACHE\", \"id\": 4405, \"object_id\": 43}, {\"code\": 36, \"length\": 2.72406675872, \"constituency_code\": 195, \"name\": \"BOMET\", \"area\": 0.19238263931, \"constituency\": \"CHEPALUNGU\", \"id\": 4923, \"object_id\": 44}, {\"code\": 46, \"length\": 1.44616032887, \"constituency_code\": 272, \"name\": \"NYAMIRA\", \"area\": 0.07281816374, \"constituency\": \"NORTH MUGIRANGO\", \"id\": 3966, \"object_id\": 45}, {\"code\": 42, \"length\": 2.85283474806, \"constituency_code\": 244, \"name\": \"KISUMU\", \"area\": 0.21632857436, \"constituency\": \"NYAKACH\", \"id\": 3371, \"object_id\": 46}, {\"code\": 26, \"length\": 2.33533782345, \"constituency_code\": 137, \"name\": \"TRANS NZOIA\", \"area\": 0.20192419449, \"constituency\": \"ENDEBESS\", \"id\": 667, \"object_id\": 47}, {\"code\": 0, \"length\": 0.02935459334, \"constituency_code\": 0, \"name\": \"\", \"area\": 1.042895e-05, \"constituency\": \"\", \"id\": 0, \"object_id\": 60}]'"
      ]
     },
     "execution_count": 9,
     "metadata": {},
     "output_type": "execute_result"
    }
   ],
   "source": [
    "import json\n",
    "\n",
    "json.dumps(county_details)"
   ]
  },
  {
   "cell_type": "code",
   "execution_count": null,
   "metadata": {
    "collapsed": false
   },
   "outputs": [],
   "source": []
  },
  {
   "cell_type": "code",
   "execution_count": null,
   "metadata": {
    "collapsed": false
   },
   "outputs": [],
   "source": []
  },
  {
   "cell_type": "code",
   "execution_count": null,
   "metadata": {
    "collapsed": true
   },
   "outputs": [],
   "source": []
  },
  {
   "cell_type": "code",
   "execution_count": null,
   "metadata": {
    "collapsed": true
   },
   "outputs": [],
   "source": []
  },
  {
   "cell_type": "code",
   "execution_count": null,
   "metadata": {
    "collapsed": true
   },
   "outputs": [],
   "source": []
  }
 ],
 "metadata": {
  "kernelspec": {
   "display_name": "Python 2",
   "language": "python",
   "name": "python2"
  },
  "language_info": {
   "codemirror_mode": {
    "name": "ipython",
    "version": 2
   },
   "file_extension": ".py",
   "mimetype": "text/x-python",
   "name": "python",
   "nbconvert_exporter": "python",
   "pygments_lexer": "ipython2",
   "version": "2.7.6"
  }
 },
 "nbformat": 4,
 "nbformat_minor": 0
}
