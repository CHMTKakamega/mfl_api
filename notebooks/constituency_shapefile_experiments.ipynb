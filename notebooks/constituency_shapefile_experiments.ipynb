{
 "cells": [
  {
   "cell_type": "markdown",
   "metadata": {},
   "source": [
    "First, set up Django"
   ]
  },
  {
   "cell_type": "code",
   "execution_count": 1,
   "metadata": {
    "collapsed": false
   },
   "outputs": [
    {
     "name": "stderr",
     "output_type": "stream",
     "text": [
      "/home/ngurenyaga/.virtualenvs/mfl/local/lib/python2.7/site-packages/reversion/admin.py:16: RemovedInDjango19Warning: django.contrib.contenttypes.generic is deprecated and will be removed in Django 1.9. Its contents have been moved to the fields, forms, and admin submodules of django.contrib.contenttypes.\n",
      "  from django.contrib.contenttypes.generic import GenericInlineModelAdmin, GenericRelation\n",
      "\n",
      "WARNING:py.warnings:/home/ngurenyaga/.virtualenvs/mfl/local/lib/python2.7/site-packages/reversion/admin.py:16: RemovedInDjango19Warning: django.contrib.contenttypes.generic is deprecated and will be removed in Django 1.9. Its contents have been moved to the fields, forms, and admin submodules of django.contrib.contenttypes.\n",
      "  from django.contrib.contenttypes.generic import GenericInlineModelAdmin, GenericRelation\n",
      "\n",
      "/home/ngurenyaga/.virtualenvs/mfl/local/lib/python2.7/site-packages/django/contrib/sites/models.py:78: RemovedInDjango19Warning: Model class django.contrib.sites.models.Site doesn't declare an explicit app_label and either isn't in an application in INSTALLED_APPS or else was imported before its application was loaded. This will no longer be supported in Django 1.9.\n",
      "  class Site(models.Model):\n",
      "\n",
      "WARNING:py.warnings:/home/ngurenyaga/.virtualenvs/mfl/local/lib/python2.7/site-packages/django/contrib/sites/models.py:78: RemovedInDjango19Warning: Model class django.contrib.sites.models.Site doesn't declare an explicit app_label and either isn't in an application in INSTALLED_APPS or else was imported before its application was loaded. This will no longer be supported in Django 1.9.\n",
      "  class Site(models.Model):\n",
      "\n"
     ]
    }
   ],
   "source": [
    "import os\n",
    "import sys\n",
    "\n",
    "if __name__ == \"__main__\":\n",
    "    os.environ.setdefault(\"DJANGO_SETTINGS_MODULE\", \"config.settings\")\n",
    "    \n",
    "import django\n",
    "django.setup()"
   ]
  },
  {
   "cell_type": "markdown",
   "metadata": {},
   "source": [
    "Next, get a reference to the constituencies shape file"
   ]
  },
  {
   "cell_type": "code",
   "execution_count": 2,
   "metadata": {
    "collapsed": false
   },
   "outputs": [],
   "source": [
    "from django.conf import settings\n",
    "constituencies_shp = os.path.abspath(os.path.join(settings.BASE_DIR, 'mfl_gis/data/constituencies/constituencies.shp'))"
   ]
  },
  {
   "cell_type": "markdown",
   "metadata": {},
   "source": [
    "Now, use the LayerMapping utility to read the file into the model"
   ]
  },
  {
   "cell_type": "code",
   "execution_count": 3,
   "metadata": {
    "collapsed": false
   },
   "outputs": [],
   "source": [
    "from django.contrib.gis.gdal import DataSource\n",
    "\n",
    "constituencies_datasource = DataSource(constituencies_shp)"
   ]
  },
  {
   "cell_type": "code",
   "execution_count": 4,
   "metadata": {
    "collapsed": false
   },
   "outputs": [
    {
     "data": {
      "text/plain": [
       "[u'OBJECTID',\n",
       " u'COUNTY_NAM',\n",
       " u'CONST_CODE',\n",
       " u'CONSTITUEN',\n",
       " u'COUNTY_ASS',\n",
       " u'COUNTY_A_1',\n",
       " u'REGIST_CEN',\n",
       " u'REGISTRATI',\n",
       " u'COUNTY_COD',\n",
       " u'Shape_Leng',\n",
       " u'Shape_Area']"
      ]
     },
     "execution_count": 4,
     "metadata": {},
     "output_type": "execute_result"
    }
   ],
   "source": [
    "constituencies_layer = constituencies_datasource[0]\n",
    "constituencies_layer.fields"
   ]
  },
  {
   "cell_type": "code",
   "execution_count": 5,
   "metadata": {
    "collapsed": false
   },
   "outputs": [
    {
     "name": "stdout",
     "output_type": "stream",
     "text": [
      "295\n"
     ]
    }
   ],
   "source": [
    "constituency_details = []\n",
    "for constituency in constituencies_layer:\n",
    "    constituency_details.append({\n",
    "        'object_id': constituency.get('OBJECTID'),\n",
    "        'county': constituency.get('COUNTY_NAM'),\n",
    "        'constituency_code': constituency.get('CONST_CODE'),\n",
    "        'name': constituency.get('CONSTITUEN'),\n",
    "        'county_code': constituency.get('COUNTY_COD')\n",
    "    })\n",
    "\n",
    "print(len(constituency_details))"
   ]
  },
  {
   "cell_type": "code",
   "execution_count": 6,
   "metadata": {
    "collapsed": false
   },
   "outputs": [
    {
     "data": {
      "text/plain": [
       "'[{\"county\": \"NAIROBI\", \"county_code\": 47.0, \"constituency_code\": 288.0, \"name\": \"KAMUKUNJI\", \"object_id\": 1}, {\"county\": \"NAIROBI\", \"county_code\": 47.0, \"constituency_code\": 274.0, \"name\": \"WESTLANDS\", \"object_id\": 2}, {\"county\": \"NAIROBI\", \"county_code\": 47.0, \"constituency_code\": 275.0, \"name\": \"DAGORETTI NORTH\", \"object_id\": 3}, {\"county\": \"NAIROBI\", \"county_code\": 47.0, \"constituency_code\": 279.0, \"name\": \"ROYSAMBU\", \"object_id\": 4}, {\"county\": \"NAIROBI\", \"county_code\": 47.0, \"constituency_code\": 289.0, \"name\": \"STAREHE\", \"object_id\": 5}, {\"county\": \"NAIROBI\", \"county_code\": 47.0, \"constituency_code\": 277.0, \"name\": \"LANGATA\", \"object_id\": 6}, {\"county\": \"NAIROBI\", \"county_code\": 47.0, \"constituency_code\": 276.0, \"name\": \"DAGORETTI SOUTH\", \"object_id\": 7}, {\"county\": \"NAIROBI\", \"county_code\": 47.0, \"constituency_code\": 280.0, \"name\": \"KASARANI\", \"object_id\": 8}, {\"county\": \"NAIROBI\", \"county_code\": 47.0, \"constituency_code\": 281.0, \"name\": \"RUARAKA\", \"object_id\": 9}, {\"county\": \"NAIROBI\", \"county_code\": 47.0, \"constituency_code\": 278.0, \"name\": \"KIBRA\", \"object_id\": 10}, {\"county\": \"NAIROBI\", \"county_code\": 47.0, \"constituency_code\": 290.0, \"name\": \"MATHARE\", \"object_id\": 11}, {\"county\": \"MOMBASA\", \"county_code\": 1.0, \"constituency_code\": 3.0, \"name\": \"KISAUNI\", \"object_id\": 12}, {\"county\": \"MOMBASA\", \"county_code\": 1.0, \"constituency_code\": 6.0, \"name\": \"MVITA\", \"object_id\": 13}, {\"county\": \"MOMBASA\", \"county_code\": 1.0, \"constituency_code\": 2.0, \"name\": \"JOMVU\", \"object_id\": 14}, {\"county\": \"MOMBASA\", \"county_code\": 1.0, \"constituency_code\": 4.0, \"name\": \"NYALI\", \"object_id\": 15}, {\"county\": \"MOMBASA\", \"county_code\": 1.0, \"constituency_code\": 5.0, \"name\": \"LIKONI\", \"object_id\": 16}, {\"county\": \"KWALE\", \"county_code\": 2.0, \"constituency_code\": 10.0, \"name\": \"KINANGO\", \"object_id\": 17}, {\"county\": \"KWALE\", \"county_code\": 2.0, \"constituency_code\": 9.0, \"name\": \"MATUGA\", \"object_id\": 18}, {\"county\": \"KWALE\", \"county_code\": 2.0, \"constituency_code\": 8.0, \"name\": \"LUNGA LUNGA\", \"object_id\": 19}, {\"county\": \"KWALE\", \"county_code\": 2.0, \"constituency_code\": 7.0, \"name\": \"MSAMBWENI\", \"object_id\": 20}, {\"county\": \"KILIFI\", \"county_code\": 3.0, \"constituency_code\": 13.0, \"name\": \"KALOLENI\", \"object_id\": 21}, {\"county\": \"KILIFI\", \"county_code\": 3.0, \"constituency_code\": 15.0, \"name\": \"GANZE\", \"object_id\": 22}, {\"county\": \"KILIFI\", \"county_code\": 3.0, \"constituency_code\": 11.0, \"name\": \"KILIFI NORTH\", \"object_id\": 23}, {\"county\": \"KILIFI\", \"county_code\": 3.0, \"constituency_code\": 12.0, \"name\": \"KILIFI SOUTH\", \"object_id\": 24}, {\"county\": \"KILIFI\", \"county_code\": 3.0, \"constituency_code\": 17.0, \"name\": \"MAGARINI\", \"object_id\": 25}, {\"county\": \"KILIFI\", \"county_code\": 3.0, \"constituency_code\": 14.0, \"name\": \"RABAI\", \"object_id\": 26}, {\"county\": \"KILIFI\", \"county_code\": 3.0, \"constituency_code\": 16.0, \"name\": \"MALINDI\", \"object_id\": 27}, {\"county\": \"TANA RIVER\", \"county_code\": 4.0, \"constituency_code\": 19.0, \"name\": \"GALOLE\", \"object_id\": 28}, {\"county\": \"TANA RIVER\", \"county_code\": 4.0, \"constituency_code\": 20.0, \"name\": \"BURA\", \"object_id\": 29}, {\"county\": \"TANA RIVER\", \"county_code\": 4.0, \"constituency_code\": 18.0, \"name\": \"GARSEN\", \"object_id\": 30}, {\"county\": \"LAMU\", \"county_code\": 5.0, \"constituency_code\": 22.0, \"name\": \"LAMU WEST\", \"object_id\": 31}, {\"county\": \"LAMU\", \"county_code\": 5.0, \"constituency_code\": 21.0, \"name\": \"LAMU EAST\", \"object_id\": 32}, {\"county\": \"TAITA TAVETA\", \"county_code\": 6.0, \"constituency_code\": 24.0, \"name\": \"WUNDANYI\", \"object_id\": 33}, {\"county\": \"TAITA TAVETA\", \"county_code\": 6.0, \"constituency_code\": 26.0, \"name\": \"VOI\", \"object_id\": 34}, {\"county\": \"TAITA TAVETA\", \"county_code\": 6.0, \"constituency_code\": 25.0, \"name\": \"MWATATE\", \"object_id\": 35}, {\"county\": \"TAITA TAVETA\", \"county_code\": 6.0, \"constituency_code\": 23.0, \"name\": \"TAVETA\", \"object_id\": 36}, {\"county\": \"GARISSA\", \"county_code\": 7.0, \"constituency_code\": 28.0, \"name\": \"BALAMBALA\", \"object_id\": 37}, {\"county\": \"GARISSA\", \"county_code\": 7.0, \"constituency_code\": 32.0, \"name\": \"IJARA\", \"object_id\": 38}, {\"county\": \"GARISSA\", \"county_code\": 7.0, \"constituency_code\": 30.0, \"name\": \"DADAAB\", \"object_id\": 39}, {\"county\": \"GARISSA\", \"county_code\": 7.0, \"constituency_code\": 27.0, \"name\": \"GARISSA TOWNSHIP\", \"object_id\": 40}, {\"county\": \"GARISSA\", \"county_code\": 7.0, \"constituency_code\": 31.0, \"name\": \"FAFI\", \"object_id\": 41}, {\"county\": \"GARISSA\", \"county_code\": 7.0, \"constituency_code\": 29.0, \"name\": \"LAGDERA\", \"object_id\": 42}, {\"county\": \"WAJIR\", \"county_code\": 8.0, \"constituency_code\": 36.0, \"name\": \"WAJIR WEST\", \"object_id\": 43}, {\"county\": \"WAJIR\", \"county_code\": 8.0, \"constituency_code\": 33.0, \"name\": \"WAJIR NORTH\", \"object_id\": 44}, {\"county\": \"WAJIR\", \"county_code\": 8.0, \"constituency_code\": 38.0, \"name\": \"WAJIR SOUTH\", \"object_id\": 45}, {\"county\": \"WAJIR\", \"county_code\": 8.0, \"constituency_code\": 35.0, \"name\": \"TARBAJ\", \"object_id\": 46}, {\"county\": \"WAJIR\", \"county_code\": 8.0, \"constituency_code\": 37.0, \"name\": \"ELDAS\", \"object_id\": 47}, {\"county\": \"WAJIR\", \"county_code\": 8.0, \"constituency_code\": 34.0, \"name\": \"WAJIR EAST\", \"object_id\": 48}, {\"county\": \"MANDERA\", \"county_code\": 9.0, \"constituency_code\": 42.0, \"name\": \"MANDERA SOUTH\", \"object_id\": 49}, {\"county\": \"MANDERA\", \"county_code\": 9.0, \"constituency_code\": 41.0, \"name\": \"MANDERA NORTH\", \"object_id\": 50}, {\"county\": \"MANDERA\", \"county_code\": 9.0, \"constituency_code\": 39.0, \"name\": \"MANDERA WEST\", \"object_id\": 51}, {\"county\": \"MANDERA\", \"county_code\": 9.0, \"constituency_code\": 40.0, \"name\": \"BANISSA\", \"object_id\": 52}, {\"county\": \"MARSABIT\", \"county_code\": 10.0, \"constituency_code\": 46.0, \"name\": \"NORTH HORR\", \"object_id\": 53}, {\"county\": \"MARSABIT\", \"county_code\": 10.0, \"constituency_code\": 45.0, \"name\": \"MOYALE\", \"object_id\": 54}, {\"county\": \"MARSABIT\", \"county_code\": 10.0, \"constituency_code\": 48.0, \"name\": \"LAISAMIS\", \"object_id\": 55}, {\"county\": \"MARSABIT\", \"county_code\": 10.0, \"constituency_code\": 47.0, \"name\": \"SAKU\", \"object_id\": 56}, {\"county\": \"ISIOLO\", \"county_code\": 11.0, \"constituency_code\": 49.0, \"name\": \"ISIOLO NORTH\", \"object_id\": 57}, {\"county\": \"ISIOLO\", \"county_code\": 11.0, \"constituency_code\": 50.0, \"name\": \"ISIOLO SOUTH\", \"object_id\": 58}, {\"county\": \"MERU\", \"county_code\": 12.0, \"constituency_code\": 56.0, \"name\": \"NORTH IMENTI\", \"object_id\": 59}, {\"county\": \"MERU\", \"county_code\": 12.0, \"constituency_code\": 54.0, \"name\": \"TIGANIA WEST\", \"object_id\": 60}, {\"county\": \"MERU\", \"county_code\": 12.0, \"constituency_code\": 59.0, \"name\": \"SOUTH IMENTI\", \"object_id\": 61}, {\"county\": \"MERU\", \"county_code\": 12.0, \"constituency_code\": 57.0, \"name\": \"BUURI\", \"object_id\": 62}, {\"county\": \"MERU\", \"county_code\": 12.0, \"constituency_code\": 51.0, \"name\": \"IGEMBE SOUTH\", \"object_id\": 63}, {\"county\": \"MERU\", \"county_code\": 12.0, \"constituency_code\": 52.0, \"name\": \"IGEMBE CENTRAL\", \"object_id\": 64}, {\"county\": \"MERU\", \"county_code\": 12.0, \"constituency_code\": 55.0, \"name\": \"TIGANIA EAST\", \"object_id\": 65}, {\"county\": \"MERU\", \"county_code\": 12.0, \"constituency_code\": 58.0, \"name\": \"CENTRAL IMENTI\", \"object_id\": 66}, {\"county\": \"MERU\", \"county_code\": 12.0, \"constituency_code\": 53.0, \"name\": \"IGEMBE NORTH\", \"object_id\": 67}, {\"county\": \"THARAKA - NITHI\", \"county_code\": 13.0, \"constituency_code\": 60.0, \"name\": \"MAARA\", \"object_id\": 68}, {\"county\": \"THARAKA - NITHI\", \"county_code\": 13.0, \"constituency_code\": 62.0, \"name\": \"THARAKA\", \"object_id\": 69}, {\"county\": \"THARAKA - NITHI\", \"county_code\": 13.0, \"constituency_code\": 61.0, \"name\": \"CHUKA/IGAMBANG\\'OMBE\", \"object_id\": 70}, {\"county\": \"EMBU\", \"county_code\": 14.0, \"constituency_code\": 64.0, \"name\": \"RUNYENJES\", \"object_id\": 71}, {\"county\": \"EMBU\", \"county_code\": 14.0, \"constituency_code\": 66.0, \"name\": \"MBEERE NORTH\", \"object_id\": 72}, {\"county\": \"EMBU\", \"county_code\": 14.0, \"constituency_code\": 63.0, \"name\": \"MANYATTA\", \"object_id\": 73}, {\"county\": \"EMBU\", \"county_code\": 14.0, \"constituency_code\": 65.0, \"name\": \"MBEERE SOUTH\", \"object_id\": 74}, {\"county\": \"KITUI\", \"county_code\": 15.0, \"constituency_code\": 73.0, \"name\": \"KITUI EAST\", \"object_id\": 75}, {\"county\": \"KITUI\", \"county_code\": 15.0, \"constituency_code\": 70.0, \"name\": \"KITUI WEST\", \"object_id\": 76}, {\"county\": \"KITUI\", \"county_code\": 15.0, \"constituency_code\": 71.0, \"name\": \"KITUI RURAL\", \"object_id\": 77}, {\"county\": \"KITUI\", \"county_code\": 15.0, \"constituency_code\": 74.0, \"name\": \"KITUI SOUTH\", \"object_id\": 78}, {\"county\": \"KITUI\", \"county_code\": 15.0, \"constituency_code\": 72.0, \"name\": \"KITUI CENTRAL\", \"object_id\": 79}, {\"county\": \"MACHAKOS\", \"county_code\": 16.0, \"constituency_code\": 76.0, \"name\": \"YATTA\", \"object_id\": 80}, {\"county\": \"MACHAKOS\", \"county_code\": 16.0, \"constituency_code\": 81.0, \"name\": \"MACHAKOS TOWN\", \"object_id\": 81}, {\"county\": \"MACHAKOS\", \"county_code\": 16.0, \"constituency_code\": 78.0, \"name\": \"MATUNGULU\", \"object_id\": 82}, {\"county\": \"MACHAKOS\", \"county_code\": 16.0, \"constituency_code\": 82.0, \"name\": \"MWALA\", \"object_id\": 83}, {\"county\": \"MACHAKOS\", \"county_code\": 16.0, \"constituency_code\": 75.0, \"name\": \"MASINGA\", \"object_id\": 84}, {\"county\": \"MACHAKOS\", \"county_code\": 16.0, \"constituency_code\": 77.0, \"name\": \"KANGUNDO\", \"object_id\": 85}, {\"county\": \"MACHAKOS\", \"county_code\": 16.0, \"constituency_code\": 80.0, \"name\": \"MAVOKO\", \"object_id\": 86}, {\"county\": \"MACHAKOS\", \"county_code\": 16.0, \"constituency_code\": 79.0, \"name\": \"KATHIANI\", \"object_id\": 87}, {\"county\": \"NYANDARUA\", \"county_code\": 18.0, \"constituency_code\": 90.0, \"name\": \"KIPIPIRI\", \"object_id\": 88}, {\"county\": \"NYANDARUA\", \"county_code\": 18.0, \"constituency_code\": 89.0, \"name\": \"KINANGOP\", \"object_id\": 89}, {\"county\": \"NYANDARUA\", \"county_code\": 18.0, \"constituency_code\": 93.0, \"name\": \"NDARAGWA\", \"object_id\": 90}, {\"county\": \"NYERI\", \"county_code\": 19.0, \"constituency_code\": 95.0, \"name\": \"KIENI\", \"object_id\": 91}, {\"county\": \"NYERI\", \"county_code\": 19.0, \"constituency_code\": 96.0, \"name\": \"MATHIRA\", \"object_id\": 92}, {\"county\": \"NYERI\", \"county_code\": 19.0, \"constituency_code\": 97.0, \"name\": \"OTHAYA\", \"object_id\": 93}, {\"county\": \"NYERI\", \"county_code\": 19.0, \"constituency_code\": 94.0, \"name\": \"TETU\", \"object_id\": 94}, {\"county\": \"NYERI\", \"county_code\": 19.0, \"constituency_code\": 98.0, \"name\": \"MUKURWEINI\", \"object_id\": 95}, {\"county\": \"NYERI\", \"county_code\": 19.0, \"constituency_code\": 99.0, \"name\": \"NYERI TOWN\", \"object_id\": 96}, {\"county\": \"KIRINYAGA\", \"county_code\": 20.0, \"constituency_code\": 101.0, \"name\": \"GICHUGU\", \"object_id\": 97}, {\"county\": \"KIRINYAGA\", \"county_code\": 20.0, \"constituency_code\": 103.0, \"name\": \"KIRINYAGA CENTRAL\", \"object_id\": 98}, {\"county\": \"KIRINYAGA\", \"county_code\": 20.0, \"constituency_code\": 102.0, \"name\": \"NDIA\", \"object_id\": 99}, {\"county\": \"KIRINYAGA\", \"county_code\": 20.0, \"constituency_code\": 100.0, \"name\": \"MWEA\", \"object_id\": 100}, {\"county\": \"MURANG\\'A\", \"county_code\": 21.0, \"constituency_code\": 105.0, \"name\": \"MATHIOYA\", \"object_id\": 101}, {\"county\": \"MURANG\\'A\", \"county_code\": 21.0, \"constituency_code\": 109.0, \"name\": \"KANDARA\", \"object_id\": 102}, {\"county\": \"MURANG\\'A\", \"county_code\": 21.0, \"constituency_code\": 108.0, \"name\": \"MARAGWA\", \"object_id\": 103}, {\"county\": \"MURANG\\'A\", \"county_code\": 21.0, \"constituency_code\": 104.0, \"name\": \"KANGEMA\", \"object_id\": 104}, {\"county\": \"MURANG\\'A\", \"county_code\": 21.0, \"constituency_code\": 107.0, \"name\": \"KIGUMO\", \"object_id\": 105}, {\"county\": \"MURANG\\'A\", \"county_code\": 21.0, \"constituency_code\": 106.0, \"name\": \"KIHARU\", \"object_id\": 106}, {\"county\": \"KIAMBU\", \"county_code\": 22.0, \"constituency_code\": 112.0, \"name\": \"GATUNDU NORTH\", \"object_id\": 107}, {\"county\": \"KIAMBU\", \"county_code\": 22.0, \"constituency_code\": 119.0, \"name\": \"KABETE\", \"object_id\": 108}, {\"county\": \"KIAMBU\", \"county_code\": 22.0, \"constituency_code\": 118.0, \"name\": \"KIAMBAA\", \"object_id\": 109}, {\"county\": \"KIAMBU\", \"county_code\": 22.0, \"constituency_code\": 116.0, \"name\": \"GITHUNGURI\", \"object_id\": 110}, {\"county\": \"KIAMBU\", \"county_code\": 22.0, \"constituency_code\": 114.0, \"name\": \"THIKA TOWN\", \"object_id\": 111}, {\"county\": \"MURANG\\'A\", \"county_code\": 21.0, \"constituency_code\": 110.0, \"name\": \"GATANGA\", \"object_id\": 112}, {\"county\": \"KIAMBU\", \"county_code\": 22.0, \"constituency_code\": 120.0, \"name\": \"KIKUYU\", \"object_id\": 113}, {\"county\": \"KIAMBU\", \"county_code\": 22.0, \"constituency_code\": 121.0, \"name\": \"LIMURU\", \"object_id\": 114}, {\"county\": \"KIAMBU\", \"county_code\": 22.0, \"constituency_code\": 111.0, \"name\": \"GATUNDU SOUTH\", \"object_id\": 115}, {\"county\": \"KIAMBU\", \"county_code\": 22.0, \"constituency_code\": 122.0, \"name\": \"LARI\", \"object_id\": 116}, {\"county\": \"KIAMBU\", \"county_code\": 22.0, \"constituency_code\": 113.0, \"name\": \"JUJA\", \"object_id\": 117}, {\"county\": \"KIAMBU\", \"county_code\": 22.0, \"constituency_code\": 115.0, \"name\": \"RUIRU\", \"object_id\": 118}, {\"county\": \"KIAMBU\", \"county_code\": 22.0, \"constituency_code\": 117.0, \"name\": \"KIAMBU\", \"object_id\": 119}, {\"county\": \"TURKANA\", \"county_code\": 23.0, \"constituency_code\": 123.0, \"name\": \"TURKANA NORTH\", \"object_id\": 120}, {\"county\": \"TURKANA\", \"county_code\": 23.0, \"constituency_code\": 128.0, \"name\": \"TURKANA EAST\", \"object_id\": 121}, {\"county\": \"TURKANA\", \"county_code\": 23.0, \"constituency_code\": 125.0, \"name\": \"TURKANA CENTRAL\", \"object_id\": 122}, {\"county\": \"TURKANA\", \"county_code\": 23.0, \"constituency_code\": 124.0, \"name\": \"TURKANA WEST\", \"object_id\": 123}, {\"county\": \"TURKANA\", \"county_code\": 23.0, \"constituency_code\": 126.0, \"name\": \"LOIMA\", \"object_id\": 124}, {\"county\": \"TURKANA\", \"county_code\": 23.0, \"constituency_code\": 127.0, \"name\": \"TURKANA SOUTH\", \"object_id\": 125}, {\"county\": \"WEST POKOT\", \"county_code\": 24.0, \"constituency_code\": 129.0, \"name\": \"KAPENGURIA\", \"object_id\": 126}, {\"county\": \"WEST POKOT\", \"county_code\": 24.0, \"constituency_code\": 130.0, \"name\": \"SIGOR\", \"object_id\": 127}, {\"county\": \"WEST POKOT\", \"county_code\": 24.0, \"constituency_code\": 131.0, \"name\": \"KACHELIBA\", \"object_id\": 128}, {\"county\": \"WEST POKOT\", \"county_code\": 24.0, \"constituency_code\": 132.0, \"name\": \"POKOT SOUTH\", \"object_id\": 129}, {\"county\": \"WEST POKOT\", \"county_code\": 24.0, \"constituency_code\": 148.0, \"name\": \"MARAKWET WEST\", \"object_id\": 130}, {\"county\": \"SAMBURU\", \"county_code\": 25.0, \"constituency_code\": 134.0, \"name\": \"SAMBURU NORTH\", \"object_id\": 131}, {\"county\": \"SAMBURU\", \"county_code\": 25.0, \"constituency_code\": 133.0, \"name\": \"SAMBURU WEST\", \"object_id\": 132}, {\"county\": \"SAMBURU\", \"county_code\": 25.0, \"constituency_code\": 135.0, \"name\": \"SAMBURU EAST\", \"object_id\": 133}, {\"county\": \"UASIN GISHU\", \"county_code\": 27.0, \"constituency_code\": 144.0, \"name\": \"AINABKOI\", \"object_id\": 134}, {\"county\": \"UASIN GISHU\", \"county_code\": 27.0, \"constituency_code\": 143.0, \"name\": \"MOIBEN\", \"object_id\": 135}, {\"county\": \"UASIN GISHU\", \"county_code\": 27.0, \"constituency_code\": 141.0, \"name\": \"SOY\", \"object_id\": 136}, {\"county\": \"UASIN GISHU\", \"county_code\": 27.0, \"constituency_code\": 142.0, \"name\": \"TURBO\", \"object_id\": 137}, {\"county\": \"UASIN GISHU\", \"county_code\": 27.0, \"constituency_code\": 146.0, \"name\": \"KESSES\", \"object_id\": 138}, {\"county\": \"UASIN GISHU\", \"county_code\": 27.0, \"constituency_code\": 145.0, \"name\": \"KAPSERET\", \"object_id\": 139}, {\"county\": \"ELEGEYO-MARAKWET\", \"county_code\": 28.0, \"constituency_code\": 147.0, \"name\": \"MARAKWET EAST\", \"object_id\": 140}, {\"county\": \"ELGEYO-MARAKWET\", \"county_code\": 28.0, \"constituency_code\": 149.0, \"name\": \"KEIYO NORTH\", \"object_id\": 141}, {\"county\": \"ELEGEYO-MARAKWET\", \"county_code\": 28.0, \"constituency_code\": 150.0, \"name\": \"KEIYO SOUTH\", \"object_id\": 142}, {\"county\": \"NANDI\", \"county_code\": 29.0, \"constituency_code\": 156.0, \"name\": \"MOSOP\", \"object_id\": 143}, {\"county\": \"NANDI\", \"county_code\": 29.0, \"constituency_code\": 153.0, \"name\": \"NANDI HILLS\", \"object_id\": 144}, {\"county\": \"NANDI\", \"county_code\": 29.0, \"constituency_code\": 155.0, \"name\": \"EMGWEN\", \"object_id\": 145}, {\"county\": \"NANDI\", \"county_code\": 29.0, \"constituency_code\": 151.0, \"name\": \"TINDERET\", \"object_id\": 146}, {\"county\": \"NANDI\", \"county_code\": 29.0, \"constituency_code\": 152.0, \"name\": \"ALDAI\", \"object_id\": 147}, {\"county\": \"NANDI\", \"county_code\": 29.0, \"constituency_code\": 154.0, \"name\": \"CHESUMEI\", \"object_id\": 148}, {\"county\": \"BARINGO\", \"county_code\": 30.0, \"constituency_code\": 159.0, \"name\": \"BARINGO CENTRAL\", \"object_id\": 149}, {\"county\": \"BARINGO\", \"county_code\": 30.0, \"constituency_code\": 158.0, \"name\": \"BARINGO NORTH\", \"object_id\": 150}, {\"county\": \"BARINGO\", \"county_code\": 30.0, \"constituency_code\": 161.0, \"name\": \"MOGOTIO\", \"object_id\": 151}, {\"county\": \"BARINGO\", \"county_code\": 30.0, \"constituency_code\": 162.0, \"name\": \"ELDAMA RAVINE\", \"object_id\": 152}, {\"county\": \"BARINGO\", \"county_code\": 30.0, \"constituency_code\": 160.0, \"name\": \"BARINGO SOUTH\", \"object_id\": 153}, {\"county\": \"BARINGO\", \"county_code\": 30.0, \"constituency_code\": 157.0, \"name\": \"TIATY\", \"object_id\": 154}, {\"county\": \"LAIKIPIA\", \"county_code\": 31.0, \"constituency_code\": 165.0, \"name\": \"LAIKIPIA NORTH\", \"object_id\": 155}, {\"county\": \"NAKURU\", \"county_code\": 32.0, \"constituency_code\": 172.0, \"name\": \"SUBUKIA\", \"object_id\": 156}, {\"county\": \"NAKURU\", \"county_code\": 32.0, \"constituency_code\": 170.0, \"name\": \"KURESOI SOUTH\", \"object_id\": 157}, {\"county\": \"NAKURU\", \"county_code\": 32.0, \"constituency_code\": 167.0, \"name\": \"NJORO\", \"object_id\": 158}, {\"county\": \"NAKURU\", \"county_code\": 32.0, \"constituency_code\": 176.0, \"name\": \"NAKURU TOWN EAST\", \"object_id\": 159}, {\"county\": \"NAKURU\", \"county_code\": 32.0, \"constituency_code\": 173.0, \"name\": \"RONGAI\", \"object_id\": 160}, {\"county\": \"NAKURU\", \"county_code\": 32.0, \"constituency_code\": 168.0, \"name\": \"NAIVASHA\", \"object_id\": 161}, {\"county\": \"NAKURU\", \"county_code\": 32.0, \"constituency_code\": 169.0, \"name\": \"GILGIL\", \"object_id\": 162}, {\"county\": \"NAKURU\", \"county_code\": 32.0, \"constituency_code\": 175.0, \"name\": \"NAKURU TOWN WEST\", \"object_id\": 163}, {\"county\": \"NAKURU\", \"county_code\": 32.0, \"constituency_code\": 171.0, \"name\": \"KURESOI NORTH\", \"object_id\": 164}, {\"county\": \"NAKURU\", \"county_code\": 32.0, \"constituency_code\": 166.0, \"name\": \"MOLO\", \"object_id\": 165}, {\"county\": \"NAKURU\", \"county_code\": 32.0, \"constituency_code\": 174.0, \"name\": \"BAHATI\", \"object_id\": 166}, {\"county\": \"NAROK\", \"county_code\": 33.0, \"constituency_code\": 181.0, \"name\": \"NAROK SOUTH\", \"object_id\": 167}, {\"county\": \"NAROK\", \"county_code\": 33.0, \"constituency_code\": 179.0, \"name\": \"NAROK NORTH\", \"object_id\": 168}, {\"county\": \"NAROK\", \"county_code\": 33.0, \"constituency_code\": 177.0, \"name\": \"KILGORIS\", \"object_id\": 169}, {\"county\": \"NAROK\", \"county_code\": 33.0, \"constituency_code\": 182.0, \"name\": \"NAROK WEST\", \"object_id\": 170}, {\"county\": \"NAROK\", \"county_code\": 33.0, \"constituency_code\": 178.0, \"name\": \"EMURUA DIKIRR\", \"object_id\": 171}, {\"county\": \"NAROK\", \"county_code\": 33.0, \"constituency_code\": 180.0, \"name\": \"NAROK EAST\", \"object_id\": 172}, {\"county\": \"KAJIADO\", \"county_code\": 34.0, \"constituency_code\": 184.0, \"name\": \"KAJIADO CENTRAL\", \"object_id\": 173}, {\"county\": \"KAJIADO\", \"county_code\": 34.0, \"constituency_code\": 186.0, \"name\": \"KAJIADO WEST\", \"object_id\": 174}, {\"county\": \"KAJIADO\", \"county_code\": 34.0, \"constituency_code\": 185.0, \"name\": \"KAJIADO EAST\", \"object_id\": 175}, {\"county\": \"KAJIADO\", \"county_code\": 34.0, \"constituency_code\": 187.0, \"name\": \"KAJIADO SOUTH\", \"object_id\": 176}, {\"county\": \"KAJIADO\", \"county_code\": 34.0, \"constituency_code\": 183.0, \"name\": \"KAJIADO NORTH\", \"object_id\": 177}, {\"county\": \"MAKUENI\", \"county_code\": 17.0, \"constituency_code\": 87.0, \"name\": \"KIBWEZI WEST\", \"object_id\": 178}, {\"county\": \"MAKUENI\", \"county_code\": 17.0, \"constituency_code\": 83.0, \"name\": \"MBOONI\", \"object_id\": 179}, {\"county\": \"MAKUENI\", \"county_code\": 17.0, \"constituency_code\": 86.0, \"name\": \"MAKUENI\", \"object_id\": 180}, {\"county\": \"MAKUENI\", \"county_code\": 17.0, \"constituency_code\": 85.0, \"name\": \"KAITI\", \"object_id\": 181}, {\"county\": \"MAKUENI\", \"county_code\": 17.0, \"constituency_code\": 84.0, \"name\": \"KILOME\", \"object_id\": 182}, {\"county\": \"MAKUENI\", \"county_code\": 17.0, \"constituency_code\": 88.0, \"name\": \"KIBWEZI EAST\", \"object_id\": 183}, {\"county\": \"KERICHO\", \"county_code\": 35.0, \"constituency_code\": 192.0, \"name\": \"BELGUT\", \"object_id\": 184}, {\"county\": \"KERICHO\", \"county_code\": 35.0, \"constituency_code\": 189.0, \"name\": \"KIPKELION WEST\", \"object_id\": 185}, {\"county\": \"KERICHO\", \"county_code\": 35.0, \"constituency_code\": 193.0, \"name\": \"SIGOWET/SOIN\", \"object_id\": 186}, {\"county\": \"KERICHO\", \"county_code\": 35.0, \"constituency_code\": 188.0, \"name\": \"KIPKELION EAST\", \"object_id\": 187}, {\"county\": \"KERICHO\", \"county_code\": 35.0, \"constituency_code\": 190.0, \"name\": \"AINAMOI\", \"object_id\": 188}, {\"county\": \"BOMET\", \"county_code\": 36.0, \"constituency_code\": 198.0, \"name\": \"KONOIN\", \"object_id\": 189}, {\"county\": \"KAKAMEGA\", \"county_code\": 37.0, \"constituency_code\": 209.0, \"name\": \"SHINYALU\", \"object_id\": 190}, {\"county\": \"KAKAMEGA\", \"county_code\": 37.0, \"constituency_code\": 206.0, \"name\": \"MATUNGU\", \"object_id\": 191}, {\"county\": \"KAKAMEGA\", \"county_code\": 37.0, \"constituency_code\": 207.0, \"name\": \"BUTERE\", \"object_id\": 192}, {\"county\": \"KAKAMEGA\", \"county_code\": 37.0, \"constituency_code\": 208.0, \"name\": \"KHWISERO\", \"object_id\": 193}, {\"county\": \"KAKAMEGA\", \"county_code\": 37.0, \"constituency_code\": 201.0, \"name\": \"MALAVA\", \"object_id\": 194}, {\"county\": \"KAKAMEGA\", \"county_code\": 37.0, \"constituency_code\": 210.0, \"name\": \"IKOLOMANI\", \"object_id\": 195}, {\"county\": \"KAKAMEGA\", \"county_code\": 37.0, \"constituency_code\": 202.0, \"name\": \"LURAMBI\", \"object_id\": 196}, {\"county\": \"KAKAMEGA\", \"county_code\": 37.0, \"constituency_code\": 204.0, \"name\": \"MUMIAS WEST\", \"object_id\": 197}, {\"county\": \"KAKAMEGA\", \"county_code\": 37.0, \"constituency_code\": 203.0, \"name\": \"NAVAKHOLO\", \"object_id\": 198}, {\"county\": \"KAKAMEGA\", \"county_code\": 37.0, \"constituency_code\": 205.0, \"name\": \"MUMIAS EAST\", \"object_id\": 199}, {\"county\": \"VIHIGA\", \"county_code\": 38.0, \"constituency_code\": 213.0, \"name\": \"HAMISI\", \"object_id\": 200}, {\"county\": \"VIHIGA\", \"county_code\": 38.0, \"constituency_code\": 212.0, \"name\": \"SABATIA\", \"object_id\": 201}, {\"county\": \"VIHIGA\", \"county_code\": 38.0, \"constituency_code\": 214.0, \"name\": \"LUANDA\", \"object_id\": 202}, {\"county\": \"VIHIGA\", \"county_code\": 38.0, \"constituency_code\": 211.0, \"name\": \"VIHIGA\", \"object_id\": 203}, {\"county\": \"VIHIGA\", \"county_code\": 38.0, \"constituency_code\": 215.0, \"name\": \"EMUHAYA\", \"object_id\": 204}, {\"county\": \"BUNGOMA\", \"county_code\": 39.0, \"constituency_code\": 220.0, \"name\": \"KANDUYI\", \"object_id\": 205}, {\"county\": \"BUNGOMA\", \"county_code\": 39.0, \"constituency_code\": 216.0, \"name\": \"MT. ELGON\", \"object_id\": 206}, {\"county\": \"BUNGOMA\", \"county_code\": 39.0, \"constituency_code\": 223.0, \"name\": \"KIMILILI\", \"object_id\": 207}, {\"county\": \"BUNGOMA\", \"county_code\": 39.0, \"constituency_code\": 217.0, \"name\": \"SIRISIA\", \"object_id\": 208}, {\"county\": \"BUNGOMA\", \"county_code\": 39.0, \"constituency_code\": 219.0, \"name\": \"BUMULA\", \"object_id\": 209}, {\"county\": \"BUNGOMA\", \"county_code\": 39.0, \"constituency_code\": 224.0, \"name\": \"TONGAREN\", \"object_id\": 210}, {\"county\": \"BUNGOMA\", \"county_code\": 39.0, \"constituency_code\": 221.0, \"name\": \"WEBUYE EAST\", \"object_id\": 211}, {\"county\": \"BUNGOMA\", \"county_code\": 39.0, \"constituency_code\": 218.0, \"name\": \"KABUCHAI\", \"object_id\": 212}, {\"county\": \"BUNGOMA\", \"county_code\": 39.0, \"constituency_code\": 222.0, \"name\": \"WEBUTE WEST\", \"object_id\": 213}, {\"county\": \"BUSIA\", \"county_code\": 40.0, \"constituency_code\": 225.0, \"name\": \"TESO NORTH\", \"object_id\": 214}, {\"county\": \"BUSIA\", \"county_code\": 40.0, \"constituency_code\": 229.0, \"name\": \"BUTULA\", \"object_id\": 215}, {\"county\": \"BUSIA\", \"county_code\": 40.0, \"constituency_code\": 230.0, \"name\": \"FUNYULA\", \"object_id\": 216}, {\"county\": \"BUSIA\", \"county_code\": 40.0, \"constituency_code\": 226.0, \"name\": \"TESO SOUTH\", \"object_id\": 217}, {\"county\": \"BUSIA\", \"county_code\": 40.0, \"constituency_code\": 228.0, \"name\": \"MATAYOS\", \"object_id\": 218}, {\"county\": \"BUSIA\", \"county_code\": 40.0, \"constituency_code\": 227.0, \"name\": \"NAMBALE\", \"object_id\": 219}, {\"county\": \"BUSIA\", \"county_code\": 40.0, \"constituency_code\": 231.0, \"name\": \"BUDALANGI\", \"object_id\": 220}, {\"county\": \"SIAYA\", \"county_code\": 41.0, \"constituency_code\": 232.0, \"name\": \"UGENYA\", \"object_id\": 221}, {\"county\": \"SIAYA\", \"county_code\": 41.0, \"constituency_code\": 237.0, \"name\": \"RARIEDA\", \"object_id\": 222}, {\"county\": \"SIAYA\", \"county_code\": 41.0, \"constituency_code\": 236.0, \"name\": \"BONDO\", \"object_id\": 223}, {\"county\": \"SIAYA\", \"county_code\": 41.0, \"constituency_code\": 233.0, \"name\": \"UGUNJA\", \"object_id\": 224}, {\"county\": \"SIAYA\", \"county_code\": 41.0, \"constituency_code\": 235.0, \"name\": \"GEM\", \"object_id\": 225}, {\"county\": \"SIAYA\", \"county_code\": 41.0, \"constituency_code\": 234.0, \"name\": \"ALEGO USONGA\", \"object_id\": 226}, {\"county\": \"HOMA BAY\", \"county_code\": 43.0, \"constituency_code\": 248.0, \"name\": \"RANGWE\", \"object_id\": 227}, {\"county\": \"HOMA BAY\", \"county_code\": 43.0, \"constituency_code\": 245.0, \"name\": \"KASIPUL\", \"object_id\": 228}, {\"county\": \"HOMA BAY\", \"county_code\": 43.0, \"constituency_code\": 252.0, \"name\": \"SUBA\", \"object_id\": 229}, {\"county\": \"HOMA BAY\", \"county_code\": 43.0, \"constituency_code\": 247.0, \"name\": \"KARACHUONYO\", \"object_id\": 230}, {\"county\": \"HOMA BAY\", \"county_code\": 43.0, \"constituency_code\": 246.0, \"name\": \"KABONDO KASIPUL\", \"object_id\": 231}, {\"county\": \"HOMA BAY\", \"county_code\": 43.0, \"constituency_code\": 251.0, \"name\": \"MBITA\", \"object_id\": 232}, {\"county\": \"HOMA BAY\", \"county_code\": 43.0, \"constituency_code\": 250.0, \"name\": \"NDHIWA\", \"object_id\": 233}, {\"county\": \"HOMA BAY\", \"county_code\": 43.0, \"constituency_code\": 249.0, \"name\": \"HOMA BAY TOWN\", \"object_id\": 234}, {\"county\": \"MIGORI\", \"county_code\": 44.0, \"constituency_code\": 260.0, \"name\": \"KURIA EAST\", \"object_id\": 235}, {\"county\": \"MIGORI\", \"county_code\": 44.0, \"constituency_code\": 258.0, \"name\": \"NYATIKE\", \"object_id\": 236}, {\"county\": \"MIGORI\", \"county_code\": 44.0, \"constituency_code\": 254.0, \"name\": \"AWENDO\", \"object_id\": 237}, {\"county\": \"MIGORI\", \"county_code\": 44.0, \"constituency_code\": 259.0, \"name\": \"KURIA WEST\", \"object_id\": 238}, {\"county\": \"MIGORI\", \"county_code\": 44.0, \"constituency_code\": 257.0, \"name\": \"URIRI\", \"object_id\": 239}, {\"county\": \"MIGORI\", \"county_code\": 44.0, \"constituency_code\": 253.0, \"name\": \"RONGO\", \"object_id\": 240}, {\"county\": \"KISII\", \"county_code\": 45.0, \"constituency_code\": 267.0, \"name\": \"NYARIBARI CHACHE\", \"object_id\": 241}, {\"county\": \"KISII\", \"county_code\": 45.0, \"constituency_code\": 268.0, \"name\": \"KITUTU CHACHE NORTH\", \"object_id\": 242}, {\"county\": \"KISII\", \"county_code\": 45.0, \"constituency_code\": 266.0, \"name\": \"NYARIBARI MASABA\", \"object_id\": 243}, {\"county\": \"KISII\", \"county_code\": 45.0, \"constituency_code\": 265.0, \"name\": \"BOMACHOGE CHACHE\", \"object_id\": 244}, {\"county\": \"KISII\", \"county_code\": 45.0, \"constituency_code\": 264.0, \"name\": \"BOBASI\", \"object_id\": 245}, {\"county\": \"KISII\", \"county_code\": 45.0, \"constituency_code\": 263.0, \"name\": \"BOMACHOGE BORABU\", \"object_id\": 246}, {\"county\": \"KISII\", \"county_code\": 45.0, \"constituency_code\": 261.0, \"name\": \"BONCHARI\", \"object_id\": 247}, {\"county\": \"KISII\", \"county_code\": 45.0, \"constituency_code\": 269.0, \"name\": \"KITUTU CHACHE SOUTH\", \"object_id\": 248}, {\"county\": \"KISII\", \"county_code\": 45.0, \"constituency_code\": 262.0, \"name\": \"SOUTH MUGIRANGO\", \"object_id\": 249}, {\"county\": \"KERICHO\", \"county_code\": 35.0, \"constituency_code\": 191.0, \"name\": \"BURETI\", \"object_id\": 250}, {\"county\": \"BOMET\", \"county_code\": 36.0, \"constituency_code\": 195.0, \"name\": \"CHEPALUNGU\", \"object_id\": 251}, {\"county\": \"BOMET\", \"county_code\": 36.0, \"constituency_code\": 196.0, \"name\": \"BOMET EAST\", \"object_id\": 252}, {\"county\": \"BOMET\", \"county_code\": 36.0, \"constituency_code\": 194.0, \"name\": \"SOTIK\", \"object_id\": 253}, {\"county\": \"BOMET\", \"county_code\": 36.0, \"constituency_code\": 197.0, \"name\": \"BOMET CENTRAL\", \"object_id\": 254}, {\"county\": \"NYAMIRA\", \"county_code\": 46.0, \"constituency_code\": 272.0, \"name\": \"NORTH MUGIRANGO\", \"object_id\": 255}, {\"county\": \"NYAMIRA\", \"county_code\": 46.0, \"constituency_code\": 271.0, \"name\": \"WEST MUGIRANGO\", \"object_id\": 256}, {\"county\": \"NYAMIRA\", \"county_code\": 46.0, \"constituency_code\": 270.0, \"name\": \"KITUTU MASABA\", \"object_id\": 257}, {\"county\": \"NYAMIRA\", \"county_code\": 46.0, \"constituency_code\": 273.0, \"name\": \"BORABU\", \"object_id\": 258}, {\"county\": \"KISUMU\", \"county_code\": 42.0, \"constituency_code\": 244.0, \"name\": \"NYAKACH\", \"object_id\": 259}, {\"county\": \"KISUMU\", \"county_code\": 42.0, \"constituency_code\": 241.0, \"name\": \"SEME\", \"object_id\": 260}, {\"county\": \"KISUMU\", \"county_code\": 42.0, \"constituency_code\": 242.0, \"name\": \"NYANDO\", \"object_id\": 261}, {\"county\": \"KISUMU\", \"county_code\": 42.0, \"constituency_code\": 239.0, \"name\": \"KISUMU WEST\", \"object_id\": 262}, {\"county\": \"KISUMU\", \"county_code\": 42.0, \"constituency_code\": 238.0, \"name\": \"KISUMU EAST\", \"object_id\": 263}, {\"county\": \"KISUMU\", \"county_code\": 42.0, \"constituency_code\": 243.0, \"name\": \"MUHORONI\", \"object_id\": 264}, {\"county\": \"KISUMU\", \"county_code\": 42.0, \"constituency_code\": 240.0, \"name\": \"KISUMU CENTRAL\", \"object_id\": 265}, {\"county\": \"KAKAMEGA\", \"county_code\": 37.0, \"constituency_code\": 199.0, \"name\": \"LUGARI\", \"object_id\": 266}, {\"county\": \"TRANS NZOIA\", \"county_code\": 26.0, \"constituency_code\": 137.0, \"name\": \"ENDEBESS\", \"object_id\": 267}, {\"county\": \"TRANS NZOIA\", \"county_code\": 26.0, \"constituency_code\": 136.0, \"name\": \"KWANZA\", \"object_id\": 268}, {\"county\": \"TRANS NZOIA\", \"county_code\": 26.0, \"constituency_code\": 138.0, \"name\": \"SABOTI\", \"object_id\": 269}, {\"county\": \"TRANS NZOIA\", \"county_code\": 26.0, \"constituency_code\": 140.0, \"name\": \"CHERANGANY\", \"object_id\": 270}, {\"county\": \"TRANS NZOIA\", \"county_code\": 26.0, \"constituency_code\": 139.0, \"name\": \"KIMININI\", \"object_id\": 271}, {\"county\": \"KAKAMEGA\", \"county_code\": 37.0, \"constituency_code\": 200.0, \"name\": \"LIKUYANI\", \"object_id\": 272}, {\"county\": \"MANDERA\", \"county_code\": 9.0, \"constituency_code\": 44.0, \"name\": \"LAFEY\", \"object_id\": 273}, {\"county\": \"MANDERA\", \"county_code\": 9.0, \"constituency_code\": 43.0, \"name\": \"MANDERA EAST\", \"object_id\": 274}, {\"county\": \"NAIROBI\", \"county_code\": 47.0, \"constituency_code\": 286.0, \"name\": \"EMBAKASI WEST\", \"object_id\": 275}, {\"county\": \"NAIROBI\", \"county_code\": 47.0, \"constituency_code\": 285.0, \"name\": \"EMBAKASI EAST\", \"object_id\": 276}, {\"county\": \"NAIROBI\", \"county_code\": 47.0, \"constituency_code\": 283.0, \"name\": \"EMBAKASI NORTH\", \"object_id\": 277}, {\"county\": \"NAIROBI\", \"county_code\": 47.0, \"constituency_code\": 284.0, \"name\": \"EMBAKASI CENTRAL\", \"object_id\": 278}, {\"county\": \"NAIROBI\", \"county_code\": 47.0, \"constituency_code\": 282.0, \"name\": \"EMBAKASI SOUTH\", \"object_id\": 279}, {\"county\": \"NAIROBI\", \"county_code\": 47.0, \"constituency_code\": 287.0, \"name\": \"MAKADARA\", \"object_id\": 280}, {\"county\": \"KITUI\", \"county_code\": 15.0, \"constituency_code\": 68.0, \"name\": \"MWINGI WEST\", \"object_id\": 281}, {\"county\": \"KITUI\", \"county_code\": 15.0, \"constituency_code\": 69.0, \"name\": \"MWINGI CENTRAL\", \"object_id\": 282}, {\"county\": \"KITUI\", \"county_code\": 15.0, \"constituency_code\": 67.0, \"name\": \"MWINGI NORTH\", \"object_id\": 283}, {\"county\": \"NYANDARUA\", \"county_code\": 18.0, \"constituency_code\": 92.0, \"name\": \"OL JOROK\", \"object_id\": 284}, {\"county\": \"NYANDARUA\", \"county_code\": 18.0, \"constituency_code\": 91.0, \"name\": \"OL KALOU\", \"object_id\": 285}, {\"county\": \"MIGORI\", \"county_code\": 44.0, \"constituency_code\": 255.0, \"name\": \"SUNA EAST\", \"object_id\": 286}, {\"county\": \"MIGORI\", \"county_code\": 44.0, \"constituency_code\": 256.0, \"name\": \"SUNA WEST\", \"object_id\": 287}, {\"county\": \"LAIKIPIA\", \"county_code\": 31.0, \"constituency_code\": 163.0, \"name\": \"LAIKIPIA WEST\", \"object_id\": 288}, {\"county\": \"LAIKIPIA\", \"county_code\": 31.0, \"constituency_code\": 164.0, \"name\": \"LAIKIPIA EAST\", \"object_id\": 289}, {\"county\": \"MOMBASA\", \"county_code\": 1.0, \"constituency_code\": 1.0, \"name\": \"CHANGAMWE\", \"object_id\": 290}, {\"county\": \"\", \"county_code\": 0.0, \"constituency_code\": 0.0, \"name\": \"\", \"object_id\": 334}, {\"county\": \"\", \"county_code\": 0.0, \"constituency_code\": 0.0, \"name\": \"\", \"object_id\": 341}, {\"county\": \"\", \"county_code\": 0.0, \"constituency_code\": 0.0, \"name\": \"\", \"object_id\": 342}, {\"county\": \"\", \"county_code\": 0.0, \"constituency_code\": 0.0, \"name\": \"\", \"object_id\": 348}, {\"county\": \"\", \"county_code\": 0.0, \"constituency_code\": 0.0, \"name\": \"\", \"object_id\": 349}]'"
      ]
     },
     "execution_count": 6,
     "metadata": {},
     "output_type": "execute_result"
    }
   ],
   "source": [
    "import json\n",
    "\n",
    "json.dumps(constituency_details)"
   ]
  },
  {
   "cell_type": "code",
   "execution_count": null,
   "metadata": {
    "collapsed": false
   },
   "outputs": [],
   "source": []
  },
  {
   "cell_type": "code",
   "execution_count": null,
   "metadata": {
    "collapsed": false
   },
   "outputs": [],
   "source": []
  },
  {
   "cell_type": "code",
   "execution_count": null,
   "metadata": {
    "collapsed": true
   },
   "outputs": [],
   "source": []
  },
  {
   "cell_type": "code",
   "execution_count": null,
   "metadata": {
    "collapsed": true
   },
   "outputs": [],
   "source": []
  },
  {
   "cell_type": "code",
   "execution_count": null,
   "metadata": {
    "collapsed": true
   },
   "outputs": [],
   "source": []
  }
 ],
 "metadata": {
  "kernelspec": {
   "display_name": "Python 2",
   "language": "python",
   "name": "python2"
  },
  "language_info": {
   "codemirror_mode": {
    "name": "ipython",
    "version": 2
   },
   "file_extension": ".py",
   "mimetype": "text/x-python",
   "name": "python",
   "nbconvert_exporter": "python",
   "pygments_lexer": "ipython2",
   "version": "2.7.6"
  }
 },
 "nbformat": 4,
 "nbformat_minor": 0
}
