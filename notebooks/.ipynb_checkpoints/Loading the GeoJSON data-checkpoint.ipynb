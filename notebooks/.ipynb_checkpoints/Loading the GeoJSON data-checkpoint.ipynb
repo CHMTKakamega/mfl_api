{
 "cells": [
  {
   "cell_type": "markdown",
   "metadata": {},
   "source": [
    "First, set up Django"
   ]
  },
  {
   "cell_type": "code",
   "execution_count": 9,
   "metadata": {
    "collapsed": false
   },
   "outputs": [],
   "source": [
    "import os\n",
    "import sys\n",
    "import json\n",
    "\n",
    "if __name__ == \"__main__\":\n",
    "    os.environ.setdefault(\"DJANGO_SETTINGS_MODULE\", \"config.settings\")\n",
    "    \n",
    "import django\n",
    "django.setup()\n",
    "\n",
    "from django.contrib.gis.gdal import DataSource\n",
    "from django.conf import settings\n",
    "\n",
    "from django.contrib.gis.geos import Polygon\n",
    "from django.contrib.gis.gdal import OGRGeometry\n",
    "\n",
    "from mfl_gis.models import CountyBoundary, ConstituencyBoundary, WardBoundary\n",
    "from common.models import County, Constituency, Ward"
   ]
  },
  {
   "cell_type": "markdown",
   "metadata": {},
   "source": [
    "Next, get a reference to the aggregated GeoJSON file"
   ]
  },
  {
   "cell_type": "code",
   "execution_count": 10,
   "metadata": {
    "collapsed": false
   },
   "outputs": [],
   "source": [
    "with open(os.path.abspath(os.path.join(settings.BASE_DIR, 'mfl_gis/data/kenya_gis_formatted.json')), 'r') as f:\n",
    "    combined = json.load(f)"
   ]
  },
  {
   "cell_type": "markdown",
   "metadata": {},
   "source": [
    "Read county data in"
   ]
  },
  {
   "cell_type": "code",
   "execution_count": 15,
   "metadata": {
    "collapsed": false
   },
   "outputs": [],
   "source": [
    "for county in combined['counties']:    \n",
    "    for layer in DataSource(county):\n",
    "        for feature in layer: \n",
    "            try:\n",
    "                boundary = CountyBoundary.objects.get(\n",
    "                     code=feature.get('COUNTY_COD'), name=feature.get('COUNTY_NAM'))\n",
    "            except CountyBoundary.DoesNotExist:\n",
    "                try:\n",
    "                    county=County.objects.get(\n",
    "                        code=feature.get('COUNTY_COD'), name=feature.get('COUNTY_NAM'))\n",
    "                    boundary = CountyBoundary(\n",
    "                        name=feature.get('COUNTY_NAM'),\n",
    "                        code=feature.get('COUNTY_COD'),\n",
    "                        mpoly=str(feature.geom),\n",
    "                        county=county\n",
    "                    )\n",
    "                    boundary.save()\n",
    "                except County.DoesNotExist:\n",
    "                    self.stdout.write(\n",
    "                        \"No county with id {} and name ()\".format(\n",
    "                            feature.get('COUNTY_COD'), feature.get('COUNTY_NAM')\n",
    "                        )\n",
    "                    )"
   ]
  },
  {
   "cell_type": "markdown",
   "metadata": {
    "collapsed": false
   },
   "source": [
    "Read constituency data in"
   ]
  },
  {
   "cell_type": "code",
   "execution_count": 18,
   "metadata": {
    "collapsed": false
   },
   "outputs": [],
   "source": [
    "for constituency in combined['constituencies']:    \n",
    "    for layer in DataSource(constituency):\n",
    "        for feature in layer: \n",
    "            try:\n",
    "                boundary = ConstituencyBoundary.objects.get(\n",
    "                     code=feature.get('CONST_CODE'), name=feature.get('CONSTITUEN'))\n",
    "            except ConstituencyBoundary.DoesNotExist:\n",
    "                try:\n",
    "                    constituency=Constituency.objects.get(\n",
    "                        code=feature.get('CONST_CODE'), name=feature.get('CONSTITUEN'))\n",
    "                    boundary = CountyBoundary(\n",
    "                        name=feature.get('CONSTITUEN'),\n",
    "                        code=feature.get('CONST_CODE'),\n",
    "                        mpoly=str(feature.geom),\n",
    "                        constituency=constituency\n",
    "                    )\n",
    "                    boundary.save()\n",
    "                except Constituency.DoesNotExist:\n",
    "                    pass  # TODO Print DEBUG info"
   ]
  },
  {
   "cell_type": "markdown",
   "metadata": {
    "collapsed": false
   },
   "source": [
    "Read ward data in"
   ]
  },
  {
   "cell_type": "code",
   "execution_count": 33,
   "metadata": {
    "collapsed": false
   },
   "outputs": [
    {
     "name": "stdout",
     "output_type": "stream",
     "text": [
      "Unable to process ward \"Not found Here\"\n"
     ]
    }
   ],
   "source": [
    "for ward in combined['wards']:\n",
    "    try:\n",
    "        ds = DataSource(ward)\n",
    "    except:\n",
    "        # Handle special case\n",
    "        print('Unable to process ward \"{}\"'.format(ward))\n",
    "        break\n",
    "        \n",
    "    for layer in ds:\n",
    "        for feature in layer: \n",
    "            try:\n",
    "                boundary = WardBoundary.objects.get(\n",
    "                     code=feature.get('COUNTY_ASS'), name=feature.get('COUNTY_A_1'))\n",
    "            except WardBoundary.DoesNotExist:\n",
    "                try:\n",
    "                    ward=Ward.objects.get(\n",
    "                        code=feature.get('COUNTY_ASS'), name=feature.get('COUNTY_A_1'))\n",
    "                    boundary = WardBoundary(\n",
    "                        name=feature.get('COUNTY_A_1'),\n",
    "                        code=feature.get('COUNTY_ASS'),\n",
    "                        mpoly=str(feature.geom),\n",
    "                        ward=ward\n",
    "                    )\n",
    "                    boundary.save()\n",
    "                except Ward.DoesNotExist:\n",
    "                    pass  # TODO Print DEBUG info"
   ]
  },
  {
   "cell_type": "code",
   "execution_count": 29,
   "metadata": {
    "collapsed": false
   },
   "outputs": [
    {
     "data": {
      "text/plain": [
       "1450"
      ]
     },
     "execution_count": 29,
     "metadata": {},
     "output_type": "execute_result"
    }
   ],
   "source": []
  },
  {
   "cell_type": "code",
   "execution_count": null,
   "metadata": {
    "collapsed": false
   },
   "outputs": [],
   "source": []
  },
  {
   "cell_type": "code",
   "execution_count": null,
   "metadata": {
    "collapsed": true
   },
   "outputs": [],
   "source": []
  },
  {
   "cell_type": "code",
   "execution_count": null,
   "metadata": {
    "collapsed": true
   },
   "outputs": [],
   "source": []
  }
 ],
 "metadata": {
  "kernelspec": {
   "display_name": "Python 2",
   "language": "python",
   "name": "python2"
  },
  "language_info": {
   "codemirror_mode": {
    "name": "ipython",
    "version": 2
   },
   "file_extension": ".py",
   "mimetype": "text/x-python",
   "name": "python",
   "nbconvert_exporter": "python",
   "pygments_lexer": "ipython2",
   "version": "2.7.6"
  }
 },
 "nbformat": 4,
 "nbformat_minor": 0
}
