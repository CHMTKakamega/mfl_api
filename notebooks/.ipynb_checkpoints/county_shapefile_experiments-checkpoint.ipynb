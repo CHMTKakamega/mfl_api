{
 "cells": [
  {
   "cell_type": "markdown",
   "metadata": {},
   "source": [
    "First, set up Django"
   ]
  },
  {
   "cell_type": "code",
   "execution_count": 2,
   "metadata": {
    "collapsed": false
   },
   "outputs": [
    {
     "name": "stderr",
     "output_type": "stream",
     "text": [
      "/home/ngurenyaga/.virtualenvs/mfl/local/lib/python2.7/site-packages/reversion/admin.py:16: RemovedInDjango19Warning: django.contrib.contenttypes.generic is deprecated and will be removed in Django 1.9. Its contents have been moved to the fields, forms, and admin submodules of django.contrib.contenttypes.\n",
      "  from django.contrib.contenttypes.generic import GenericInlineModelAdmin, GenericRelation\n",
      "\n",
      "WARNING:py.warnings:/home/ngurenyaga/.virtualenvs/mfl/local/lib/python2.7/site-packages/reversion/admin.py:16: RemovedInDjango19Warning: django.contrib.contenttypes.generic is deprecated and will be removed in Django 1.9. Its contents have been moved to the fields, forms, and admin submodules of django.contrib.contenttypes.\n",
      "  from django.contrib.contenttypes.generic import GenericInlineModelAdmin, GenericRelation\n",
      "\n",
      "/home/ngurenyaga/.virtualenvs/mfl/local/lib/python2.7/site-packages/django/contrib/sites/models.py:78: RemovedInDjango19Warning: Model class django.contrib.sites.models.Site doesn't declare an explicit app_label and either isn't in an application in INSTALLED_APPS or else was imported before its application was loaded. This will no longer be supported in Django 1.9.\n",
      "  class Site(models.Model):\n",
      "\n",
      "WARNING:py.warnings:/home/ngurenyaga/.virtualenvs/mfl/local/lib/python2.7/site-packages/django/contrib/sites/models.py:78: RemovedInDjango19Warning: Model class django.contrib.sites.models.Site doesn't declare an explicit app_label and either isn't in an application in INSTALLED_APPS or else was imported before its application was loaded. This will no longer be supported in Django 1.9.\n",
      "  class Site(models.Model):\n",
      "\n"
     ]
    }
   ],
   "source": [
    "import os\n",
    "import sys\n",
    "\n",
    "if __name__ == \"__main__\":\n",
    "    os.environ.setdefault(\"DJANGO_SETTINGS_MODULE\", \"config.settings\")\n",
    "    \n",
    "import django\n",
    "django.setup()"
   ]
  },
  {
   "cell_type": "markdown",
   "metadata": {},
   "source": [
    "Next, get a reference to the counties shape file"
   ]
  },
  {
   "cell_type": "code",
   "execution_count": 3,
   "metadata": {
    "collapsed": false
   },
   "outputs": [],
   "source": [
    "from django.conf import settings\n",
    "counties_shp = os.path.abspath(os.path.join(settings.BASE_DIR, 'mfl_gis/data/counties/counties.shp'))"
   ]
  },
  {
   "cell_type": "markdown",
   "metadata": {},
   "source": [
    "Now, use the LayerMapping utility to read the file into the model"
   ]
  },
  {
   "cell_type": "code",
   "execution_count": 4,
   "metadata": {
    "collapsed": false
   },
   "outputs": [],
   "source": [
    "from django.contrib.gis.gdal import DataSource\n",
    "\n",
    "counties_datasource = DataSource(counties_shp)"
   ]
  },
  {
   "cell_type": "code",
   "execution_count": 5,
   "metadata": {
    "collapsed": false
   },
   "outputs": [
    {
     "data": {
      "text/plain": [
       "[u'OBJECTID',\n",
       " u'ID_',\n",
       " u'COUNTY_NAM',\n",
       " u'CONST_CODE',\n",
       " u'CONSTITUEN',\n",
       " u'COUNTY_COD',\n",
       " u'Shape_Leng',\n",
       " u'Shape_Area']"
      ]
     },
     "execution_count": 5,
     "metadata": {},
     "output_type": "execute_result"
    }
   ],
   "source": [
    "counties_layer = counties_datasource[0]\n",
    "counties_layer.fields"
   ]
  },
  {
   "cell_type": "code",
   "execution_count": 6,
   "metadata": {
    "collapsed": false
   },
   "outputs": [],
   "source": [
    "county_details = []\n",
    "for county in counties_layer:\n",
    "    county_details.append({\n",
    "        'object_id': county.get('OBJECTID'),\n",
    "        'id': county.get('ID_'),\n",
    "        'name': county.get('COUNTY_NAM'),\n",
    "        'constituency_code': county.get('CONST_CODE'),\n",
    "        'constituency': county.get('CONSTITUEN'),\n",
    "        'code': county.get('COUNTY_COD'),\n",
    "        'length': county.get('Shape_Leng'),\n",
    "        'area': county.get('Shape_Area')\n",
    "    })"
   ]
  },
  {
   "cell_type": "code",
   "execution_count": 8,
   "metadata": {
    "collapsed": false
   },
   "outputs": [
    {
     "data": {
      "text/plain": [
       "'[\\n  {\\n    \"code\": 47, \\n    \"length\": 1.55978672217, \\n    \"constituency_code\": 288, \\n    \"name\": \"NAIROBI\", \\n    \"area\": 0.057422949, \\n    \"constituency\": \"KAMUKUNJI\", \\n    \"id\": 5543, \\n    \"object_id\": 1\\n  }, \\n  {\\n    \"code\": 1, \\n    \"length\": 0.88558616055, \\n    \"constituency_code\": 3, \\n    \"name\": \"MOMBASA\", \\n    \"area\": 0.02332510618, \\n    \"constituency\": \"KISAUNI\", \\n    \"id\": 6634, \\n    \"object_id\": 2\\n  }, \\n  {\\n    \"code\": 2, \\n    \"length\": 4.28418177601, \\n    \"constituency_code\": 10, \\n    \"name\": \"KWALE\", \\n    \"area\": 0.75826601303, \\n    \"constituency\": \"KINANGO\", \\n    \"id\": 6600, \\n    \"object_id\": 3\\n  }, \\n  {\\n    \"code\": 3, \\n    \"length\": 5.33308007101, \\n    \"constituency_code\": 13, \\n    \"name\": \"KILIFI\", \\n    \"area\": 1.02533838151, \\n    \"constituency\": \"KALOLENI\", \\n    \"id\": 6731, \\n    \"object_id\": 4\\n  }, \\n  {\\n    \"code\": 4, \\n    \"length\": 10.2804493709, \\n    \"constituency_code\": 19, \\n    \"name\": \"TANA RIVER\", \\n    \"area\": 3.18421263617, \\n    \"constituency\": \"GALOLE\", \\n    \"id\": 5806, \\n    \"object_id\": 5\\n  }, \\n  {\\n    \"code\": 5, \\n    \"length\": 3.74468915941, \\n    \"constituency_code\": 22, \\n    \"name\": \"LAMU\", \\n    \"area\": 0.74374311266, \\n    \"constituency\": \"LAMU WEST\", \\n    \"id\": 6276, \\n    \"object_id\": 6\\n  }, \\n  {\\n    \"code\": 6, \\n    \"length\": 5.5844513245, \\n    \"constituency_code\": 24, \\n    \"name\": \"TAITA TAVETA\", \\n    \"area\": 1.39385877374, \\n    \"constituency\": \"WUNDANYI\", \\n    \"id\": 6467, \\n    \"object_id\": 7\\n  }, \\n  {\\n    \"code\": 7, \\n    \"length\": 10.4543262694, \\n    \"constituency_code\": 28, \\n    \"name\": \"GARISSA\", \\n    \"area\": 3.54169829321, \\n    \"constituency\": \"BALAMBALA\", \\n    \"id\": 2382, \\n    \"object_id\": 8\\n  }, \\n  {\\n    \"code\": 8, \\n    \"length\": 9.96942202517, \\n    \"constituency_code\": 36, \\n    \"name\": \"WAJIR\", \\n    \"area\": 4.60636555222, \\n    \"constituency\": \"WAJIR WEST\", \\n    \"id\": 663, \\n    \"object_id\": 9\\n  }, \\n  {\\n    \"code\": 9, \\n    \"length\": 7.19616328425, \\n    \"constituency_code\": 42, \\n    \"name\": \"MANDERA\", \\n    \"area\": 2.11434477576, \\n    \"constituency\": \"MANDERA SOUTH\", \\n    \"id\": 264, \\n    \"object_id\": 10\\n  }, \\n  {\\n    \"code\": 10, \\n    \"length\": 11.8969963206, \\n    \"constituency_code\": 46, \\n    \"name\": \"MARSABIT\", \\n    \"area\": 6.18501666925, \\n    \"constituency\": \"NORTH HORR\", \\n    \"id\": 133, \\n    \"object_id\": 11\\n  }, \\n  {\\n    \"code\": 11, \\n    \"length\": 10.0183616426, \\n    \"constituency_code\": 49, \\n    \"name\": \"ISIOLO\", \\n    \"area\": 2.06364774463, \\n    \"constituency\": \"ISIOLO NORTH\", \\n    \"id\": 812, \\n    \"object_id\": 12\\n  }, \\n  {\\n    \"code\": 12, \\n    \"length\": 4.20468088307, \\n    \"constituency_code\": 56, \\n    \"name\": \"MERU\", \\n    \"area\": 0.56801994331, \\n    \"constituency\": \"NORTH IMENTI\", \\n    \"id\": 2633, \\n    \"object_id\": 13\\n  }, \\n  {\\n    \"code\": 13, \\n    \"length\": 2.9883739317, \\n    \"constituency_code\": 60, \\n    \"name\": \"THARAKA - NITHI\", \\n    \"area\": 0.20962152815, \\n    \"constituency\": \"MAARA\", \\n    \"id\": 3303, \\n    \"object_id\": 14\\n  }, \\n  {\\n    \"code\": 14, \\n    \"length\": 3.20577801845, \\n    \"constituency_code\": 64, \\n    \"name\": \"EMBU\", \\n    \"area\": 0.22934267389, \\n    \"constituency\": \"RUNYENJES\", \\n    \"id\": 3567, \\n    \"object_id\": 15\\n  }, \\n  {\\n    \"code\": 15, \\n    \"length\": 8.74448750335, \\n    \"constituency_code\": 73, \\n    \"name\": \"KITUI\", \\n    \"area\": 2.47528086643, \\n    \"constituency\": \"KITUI EAST\", \\n    \"id\": 5251, \\n    \"object_id\": 16\\n  }, \\n  {\\n    \"code\": 16, \\n    \"length\": 5.69857534187, \\n    \"constituency_code\": 76, \\n    \"name\": \"MACHAKOS\", \\n    \"area\": 0.49098460969, \\n    \"constituency\": \"YATTA\", \\n    \"id\": 5438, \\n    \"object_id\": 17\\n  }, \\n  {\\n    \"code\": 18, \\n    \"length\": 3.48082504881, \\n    \"constituency_code\": 90, \\n    \"name\": \"NYANDARUA\", \\n    \"area\": 0.26542309571, \\n    \"constituency\": \"KIPIPIRI\", \\n    \"id\": 3699, \\n    \"object_id\": 18\\n  }, \\n  {\\n    \"code\": 19, \\n    \"length\": 2.98028956743, \\n    \"constituency_code\": 95, \\n    \"name\": \"NYERI\", \\n    \"area\": 0.27090667838, \\n    \"constituency\": \"KIENI\", \\n    \"id\": 3111, \\n    \"object_id\": 19\\n  }, \\n  {\\n    \"code\": 20, \\n    \"length\": 1.79453434734, \\n    \"constituency_code\": 101, \\n    \"name\": \"KIRINYAGA\", \\n    \"area\": 0.11984024832, \\n    \"constituency\": \"GICHUGU\", \\n    \"id\": 3965, \\n    \"object_id\": 20\\n  }, \\n  {\\n    \"code\": 21, \\n    \"length\": 2.43719771684, \\n    \"constituency_code\": 105, \\n    \"name\": \"MURANG\\'A\", \\n    \"area\": 0.20511432082, \\n    \"constituency\": \"MATHIOYA\", \\n    \"id\": 4145, \\n    \"object_id\": 21\\n  }, \\n  {\\n    \"code\": 22, \\n    \"length\": 3.00892182622, \\n    \"constituency_code\": 112, \\n    \"name\": \"KIAMBU\", \\n    \"area\": 0.20655368085, \\n    \"constituency\": \"GATUNDU NORTH\", \\n    \"id\": 4921, \\n    \"object_id\": 22\\n  }, \\n  {\\n    \"code\": 23, \\n    \"length\": 14.1898741549, \\n    \"constituency_code\": 123, \\n    \"name\": \"TURKANA\", \\n    \"area\": 5.70813539469, \\n    \"constituency\": \"TURKANA NORTH\", \\n    \"id\": 1, \\n    \"object_id\": 23\\n  }, \\n  {\\n    \"code\": 24, \\n    \"length\": 4.67142789986, \\n    \"constituency_code\": 129, \\n    \"name\": \"WEST POKOT\", \\n    \"area\": 0.7545900016, \\n    \"constituency\": \"KAPENGURIA\", \\n    \"id\": 519, \\n    \"object_id\": 24\\n  }, \\n  {\\n    \"code\": 25, \\n    \"length\": 7.83144153059, \\n    \"constituency_code\": 134, \\n    \"name\": \"SAMBURU\", \\n    \"area\": 1.70766586839, \\n    \"constituency\": \"SAMBURU NORTH\", \\n    \"id\": 401, \\n    \"object_id\": 25\\n  }, \\n  {\\n    \"code\": 27, \\n    \"length\": 3.79630380519, \\n    \"constituency_code\": 144, \\n    \"name\": \"UASIN GISHU\", \\n    \"area\": 0.27589006735, \\n    \"constituency\": \"AINABKOI\", \\n    \"id\": 1723, \\n    \"object_id\": 26\\n  }, \\n  {\\n    \"code\": 28, \\n    \"length\": 3.8541213715, \\n    \"constituency_code\": 147, \\n    \"name\": \"ELEGEYO-MARAKWET\", \\n    \"area\": 0.24576217495, \\n    \"constituency\": \"MARAKWET EAST\", \\n    \"id\": 778, \\n    \"object_id\": 27\\n  }, \\n  {\\n    \"code\": 29, \\n    \"length\": 3.05726592217, \\n    \"constituency_code\": 156, \\n    \"name\": \"NANDI\", \\n    \"area\": 0.23023133721, \\n    \"constituency\": \"MOSOP\", \\n    \"id\": 1582, \\n    \"object_id\": 28\\n  }, \\n  {\\n    \"code\": 30, \\n    \"length\": 5.81571392065, \\n    \"constituency_code\": 159, \\n    \"name\": \"BARINGO\", \\n    \"area\": 0.88451236882, \\n    \"constituency\": \"BARINGO CENTRAL\", \\n    \"id\": 1555, \\n    \"object_id\": 29\\n  }, \\n  {\\n    \"code\": 31, \\n    \"length\": 5.22280558966, \\n    \"constituency_code\": 165, \\n    \"name\": \"LAIKIPIA\", \\n    \"area\": 0.77470766941, \\n    \"constituency\": \"LAIKIPIA NORTH\", \\n    \"id\": 1416, \\n    \"object_id\": 30\\n  }, \\n  {\\n    \"code\": 32, \\n    \"length\": 6.33797592365, \\n    \"constituency_code\": 172, \\n    \"name\": \"NAKURU\", \\n    \"area\": 0.60725078911, \\n    \"constituency\": \"SUBUKIA\", \\n    \"id\": 2854, \\n    \"object_id\": 31\\n  }, \\n  {\\n    \"code\": 33, \\n    \"length\": 6.68597072631, \\n    \"constituency_code\": 181, \\n    \"name\": \"NAROK\", \\n    \"area\": 1.45350676401, \\n    \"constituency\": \"NAROK SOUTH\", \\n    \"id\": 5181, \\n    \"object_id\": 32\\n  }, \\n  {\\n    \"code\": 34, \\n    \"length\": 7.16441555269, \\n    \"constituency_code\": 184, \\n    \"name\": \"KAJIADO\", \\n    \"area\": 1.77912132642, \\n    \"constituency\": \"KAJIADO CENTRAL\", \\n    \"id\": 6202, \\n    \"object_id\": 33\\n  }, \\n  {\\n    \"code\": 17, \\n    \"length\": 5.74677892114, \\n    \"constituency_code\": 87, \\n    \"name\": \"MAKUENI\", \\n    \"area\": 0.66459009423, \\n    \"constituency\": \"KIBWEZI WEST\", \\n    \"id\": 6213, \\n    \"object_id\": 34\\n  }, \\n  {\\n    \"code\": 35, \\n    \"length\": 3.4293911554, \\n    \"constituency_code\": 192, \\n    \"name\": \"KERICHO\", \\n    \"area\": 0.20964797953, \\n    \"constituency\": \"BELGUT\", \\n    \"id\": 3434, \\n    \"object_id\": 35\\n  }, \\n  {\\n    \"code\": 37, \\n    \"length\": 3.81209259444, \\n    \"constituency_code\": 209, \\n    \"name\": \"KAKAMEGA\", \\n    \"area\": 0.24446094982, \\n    \"constituency\": \"SHINYALU\", \\n    \"id\": 1819, \\n    \"object_id\": 36\\n  }, \\n  {\\n    \"code\": 38, \\n    \"length\": 1.24925510587, \\n    \"constituency_code\": 213, \\n    \"name\": \"VIHIGA\", \\n    \"area\": 0.04549045865, \\n    \"constituency\": \"HAMISI\", \\n    \"id\": 2515, \\n    \"object_id\": 37\\n  }, \\n  {\\n    \"code\": 39, \\n    \"length\": 2.90276116927, \\n    \"constituency_code\": 220, \\n    \"name\": \"BUNGOMA\", \\n    \"area\": 0.24504475541, \\n    \"constituency\": \"KANDUYI\", \\n    \"id\": 1294, \\n    \"object_id\": 38\\n  }, \\n  {\\n    \"code\": 40, \\n    \"length\": 2.57838796438, \\n    \"constituency_code\": 225, \\n    \"name\": \"BUSIA\", \\n    \"area\": 0.14764386658, \\n    \"constituency\": \"TESO NORTH\", \\n    \"id\": 1295, \\n    \"object_id\": 39\\n  }, \\n  {\\n    \"code\": 41, \\n    \"length\": 2.80244601296, \\n    \"constituency_code\": 232, \\n    \"name\": \"SIAYA\", \\n    \"area\": 0.28583735592, \\n    \"constituency\": \"UGENYA\", \\n    \"id\": 2082, \\n    \"object_id\": 40\\n  }, \\n  {\\n    \"code\": 43, \\n    \"length\": 3.30089166438, \\n    \"constituency_code\": 248, \\n    \"name\": \"HOMA BAY\", \\n    \"area\": 0.38431715409, \\n    \"constituency\": \"RANGWE\", \\n    \"id\": 3888, \\n    \"object_id\": 41\\n  }, \\n  {\\n    \"code\": 44, \\n    \"length\": 2.9681189429, \\n    \"constituency_code\": 260, \\n    \"name\": \"MIGORI\", \\n    \"area\": 0.25500213176, \\n    \"constituency\": \"KURIA EAST\", \\n    \"id\": 5443, \\n    \"object_id\": 42\\n  }, \\n  {\\n    \"code\": 45, \\n    \"length\": 1.67945950816, \\n    \"constituency_code\": 267, \\n    \"name\": \"KISII\", \\n    \"area\": 0.10641196741, \\n    \"constituency\": \"NYARIBARI CHACHE\", \\n    \"id\": 4405, \\n    \"object_id\": 43\\n  }, \\n  {\\n    \"code\": 36, \\n    \"length\": 2.72406675872, \\n    \"constituency_code\": 195, \\n    \"name\": \"BOMET\", \\n    \"area\": 0.19238263931, \\n    \"constituency\": \"CHEPALUNGU\", \\n    \"id\": 4923, \\n    \"object_id\": 44\\n  }, \\n  {\\n    \"code\": 46, \\n    \"length\": 1.44616032887, \\n    \"constituency_code\": 272, \\n    \"name\": \"NYAMIRA\", \\n    \"area\": 0.07281816374, \\n    \"constituency\": \"NORTH MUGIRANGO\", \\n    \"id\": 3966, \\n    \"object_id\": 45\\n  }, \\n  {\\n    \"code\": 42, \\n    \"length\": 2.85283474806, \\n    \"constituency_code\": 244, \\n    \"name\": \"KISUMU\", \\n    \"area\": 0.21632857436, \\n    \"constituency\": \"NYAKACH\", \\n    \"id\": 3371, \\n    \"object_id\": 46\\n  }, \\n  {\\n    \"code\": 26, \\n    \"length\": 2.33533782345, \\n    \"constituency_code\": 137, \\n    \"name\": \"TRANS NZOIA\", \\n    \"area\": 0.20192419449, \\n    \"constituency\": \"ENDEBESS\", \\n    \"id\": 667, \\n    \"object_id\": 47\\n  }, \\n  {\\n    \"code\": 0, \\n    \"length\": 0.02935459334, \\n    \"constituency_code\": 0, \\n    \"name\": \"\", \\n    \"area\": 1.042895e-05, \\n    \"constituency\": \"\", \\n    \"id\": 0, \\n    \"object_id\": 60\\n  }\\n]'"
      ]
     },
     "execution_count": 8,
     "metadata": {},
     "output_type": "execute_result"
    }
   ],
   "source": [
    "import json\n",
    "\n",
    "json.dumps(county_details)"
   ]
  },
  {
   "cell_type": "code",
   "execution_count": null,
   "metadata": {
    "collapsed": false
   },
   "outputs": [],
   "source": []
  },
  {
   "cell_type": "code",
   "execution_count": null,
   "metadata": {
    "collapsed": false
   },
   "outputs": [],
   "source": []
  },
  {
   "cell_type": "code",
   "execution_count": null,
   "metadata": {
    "collapsed": true
   },
   "outputs": [],
   "source": []
  },
  {
   "cell_type": "code",
   "execution_count": null,
   "metadata": {
    "collapsed": true
   },
   "outputs": [],
   "source": []
  },
  {
   "cell_type": "code",
   "execution_count": null,
   "metadata": {
    "collapsed": true
   },
   "outputs": [],
   "source": []
  }
 ],
 "metadata": {
  "kernelspec": {
   "display_name": "Python 2",
   "language": "python",
   "name": "python2"
  },
  "language_info": {
   "codemirror_mode": {
    "name": "ipython",
    "version": 2
   },
   "file_extension": ".py",
   "mimetype": "text/x-python",
   "name": "python",
   "nbconvert_exporter": "python",
   "pygments_lexer": "ipython2",
   "version": "2.7.6"
  }
 },
 "nbformat": 4,
 "nbformat_minor": 0
}
