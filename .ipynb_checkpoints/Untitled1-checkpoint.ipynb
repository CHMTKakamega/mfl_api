{
 "cells": [
  {
   "cell_type": "code",
   "execution_count": null,
   "metadata": {
    "collapsed": true
   },
   "outputs": [],
   "source": [
    "for ward in wards:\n",
    "    try:\n",
    "        ward = json.loads(ward)\n",
    "    except: \n",
    "        print ward\n",
    "    props = ward.get('features')[0].get('properties')\n",
    "    ward_dict = {'name': props.get('COUNTY_A_1'), 'code':'COUNTY_ASS', 'constituency': {'code':'CONST_CODE'}}\n",
    "    formatted_wards.append(ward_dict)\n"
   ]
  }
 ],
 "metadata": {
  "kernelspec": {
   "display_name": "Python 2",
   "language": "python",
   "name": "python2"
  },
  "language_info": {
   "codemirror_mode": {
    "name": "ipython",
    "version": 2
   },
   "file_extension": ".py",
   "mimetype": "text/x-python",
   "name": "python",
   "nbconvert_exporter": "python",
   "pygments_lexer": "ipython2",
   "version": "2.7.6"
  }
 },
 "nbformat": 4,
 "nbformat_minor": 0
}
